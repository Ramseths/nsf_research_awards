{
 "cells": [
  {
   "cell_type": "markdown",
   "metadata": {},
   "source": [
    "### Data Analysis - NSF Research Awards Abstracts\n",
    "- Author: Jesus Ramseths\n",
    "- Date: 17/07/2024\n",
    "\n",
    "Overview:\n",
    "- The NSF (National Science Foundation) Research Awards Abstracts are detailed descriptions of research projects funded by the NSF. These abstracts provide a summary of the research goals, methods, and expected outcomes of each awarded project. The abstracts are part of the NSF Award Search database, which allows users to explore funded projects by various criteria such as keywords, institutions, and program areas."
   ]
  },
  {
   "cell_type": "code",
   "execution_count": 2,
   "metadata": {},
   "outputs": [],
   "source": [
    "import pandas as pd\n",
    "import spacy\n",
    "import gensim\n",
    "import numpy as np\n",
    "from gensim import corpora\n",
    "from gensim.models import LdaModel\n",
    "from gensim.models.coherencemodel import CoherenceModel\n",
    "import nltk\n",
    "import re\n",
    "from matplotlib import pyplot as plt\n",
    "from nltk.corpus import stopwords\n",
    "import seaborn as sns\n",
    "from sklearn.feature_extraction.text import TfidfVectorizer\n",
    "from sklearn.decomposition import TruncatedSVD\n",
    "pd.set_option('display.float_format', '{:.2f}'.format)"
   ]
  },
  {
   "cell_type": "markdown",
   "metadata": {},
   "source": [
    "### 1. Data load"
   ]
  },
  {
   "cell_type": "code",
   "execution_count": 59,
   "metadata": {},
   "outputs": [
    {
     "name": "stdout",
     "output_type": "stream",
     "text": [
      "Total rows: (13300, 5)\n"
     ]
    }
   ],
   "source": [
    "# Get data\n",
    "original_data = pd.read_csv('./../data/trusted/nsf_research_awards_abstracts.csv')\n",
    "print(f'Total rows: {original_data.shape}')"
   ]
  },
  {
   "cell_type": "markdown",
   "metadata": {},
   "source": [
    "### 2. Descriptive statistics"
   ]
  },
  {
   "cell_type": "code",
   "execution_count": 60,
   "metadata": {},
   "outputs": [
    {
     "data": {
      "text/html": [
       "<div>\n",
       "<style scoped>\n",
       "    .dataframe tbody tr th:only-of-type {\n",
       "        vertical-align: middle;\n",
       "    }\n",
       "\n",
       "    .dataframe tbody tr th {\n",
       "        vertical-align: top;\n",
       "    }\n",
       "\n",
       "    .dataframe thead th {\n",
       "        text-align: right;\n",
       "    }\n",
       "</style>\n",
       "<table border=\"1\" class=\"dataframe\">\n",
       "  <thead>\n",
       "    <tr style=\"text-align: right;\">\n",
       "      <th></th>\n",
       "      <th>date</th>\n",
       "      <th>country</th>\n",
       "      <th>researcher</th>\n",
       "      <th>text</th>\n",
       "    </tr>\n",
       "  </thead>\n",
       "  <tbody>\n",
       "    <tr>\n",
       "      <th>count</th>\n",
       "      <td>13300</td>\n",
       "      <td>13300</td>\n",
       "      <td>13299</td>\n",
       "      <td>13159</td>\n",
       "    </tr>\n",
       "    <tr>\n",
       "      <th>unique</th>\n",
       "      <td>224</td>\n",
       "      <td>9</td>\n",
       "      <td>11921</td>\n",
       "      <td>11712</td>\n",
       "    </tr>\n",
       "    <tr>\n",
       "      <th>top</th>\n",
       "      <td>09/01/2020</td>\n",
       "      <td>United States</td>\n",
       "      <td>Jerene Shaheed</td>\n",
       "      <td>The National Science Foundation (NSF) Graduate...</td>\n",
       "    </tr>\n",
       "    <tr>\n",
       "      <th>freq</th>\n",
       "      <td>1815</td>\n",
       "      <td>13287</td>\n",
       "      <td>10</td>\n",
       "      <td>31</td>\n",
       "    </tr>\n",
       "  </tbody>\n",
       "</table>\n",
       "</div>"
      ],
      "text/plain": [
       "              date        country      researcher  \\\n",
       "count        13300          13300           13299   \n",
       "unique         224              9           11921   \n",
       "top     09/01/2020  United States  Jerene Shaheed   \n",
       "freq          1815          13287              10   \n",
       "\n",
       "                                                     text  \n",
       "count                                               13159  \n",
       "unique                                              11712  \n",
       "top     The National Science Foundation (NSF) Graduate...  \n",
       "freq                                                   31  "
      ]
     },
     "execution_count": 60,
     "metadata": {},
     "output_type": "execute_result"
    }
   ],
   "source": [
    "# Get a brief summary\n",
    "original_data.describe(include=['object'])"
   ]
  },
  {
   "cell_type": "markdown",
   "metadata": {},
   "source": [
    "- We found out who have been the top 5 researchers with the highest cumulative awards."
   ]
  },
  {
   "cell_type": "code",
   "execution_count": 61,
   "metadata": {},
   "outputs": [
    {
     "data": {
      "text/html": [
       "<div>\n",
       "<style scoped>\n",
       "    .dataframe tbody tr th:only-of-type {\n",
       "        vertical-align: middle;\n",
       "    }\n",
       "\n",
       "    .dataframe tbody tr th {\n",
       "        vertical-align: top;\n",
       "    }\n",
       "\n",
       "    .dataframe thead th {\n",
       "        text-align: right;\n",
       "    }\n",
       "</style>\n",
       "<table border=\"1\" class=\"dataframe\">\n",
       "  <thead>\n",
       "    <tr style=\"text-align: right;\">\n",
       "      <th></th>\n",
       "      <th>researcher</th>\n",
       "      <th>total_amount</th>\n",
       "    </tr>\n",
       "  </thead>\n",
       "  <tbody>\n",
       "    <tr>\n",
       "      <th>3676</th>\n",
       "      <td>Francis L Halzen</td>\n",
       "      <td>38380300.00</td>\n",
       "    </tr>\n",
       "    <tr>\n",
       "      <th>3088</th>\n",
       "      <td>Edo Waks</td>\n",
       "      <td>25930000.00</td>\n",
       "    </tr>\n",
       "    <tr>\n",
       "      <th>7090</th>\n",
       "      <td>Mark A Kasevich</td>\n",
       "      <td>25000000.00</td>\n",
       "    </tr>\n",
       "    <tr>\n",
       "      <th>8992</th>\n",
       "      <td>Rebecca A Mosher</td>\n",
       "      <td>25000000.00</td>\n",
       "    </tr>\n",
       "    <tr>\n",
       "      <th>10745</th>\n",
       "      <td>Tian Zheng</td>\n",
       "      <td>25000000.00</td>\n",
       "    </tr>\n",
       "  </tbody>\n",
       "</table>\n",
       "</div>"
      ],
      "text/plain": [
       "             researcher  total_amount\n",
       "3676   Francis L Halzen   38380300.00\n",
       "3088           Edo Waks   25930000.00\n",
       "7090    Mark A Kasevich   25000000.00\n",
       "8992   Rebecca A Mosher   25000000.00\n",
       "10745        Tian Zheng   25000000.00"
      ]
     },
     "execution_count": 61,
     "metadata": {},
     "output_type": "execute_result"
    }
   ],
   "source": [
    "\n",
    "# Group by researcher & then sort values by total amount\n",
    "amount_by_researcher = original_data.groupby(by=['researcher']).agg({'total_amount':'sum'}).reset_index()\n",
    "amount_by_researcher_sorted = amount_by_researcher.sort_values(by='total_amount', ascending=False)\n",
    "amount_by_researcher_sorted.head()"
   ]
  },
  {
   "cell_type": "code",
   "execution_count": 62,
   "metadata": {},
   "outputs": [
    {
     "data": {
      "text/plain": [
       "country\n",
       "United States    13287\n",
       "Bermuda              5\n",
       "Canada               2\n",
       "France               1\n",
       "Australia            1\n",
       "Israel               1\n",
       "Uruguay              1\n",
       "Switzerland          1\n",
       "New Zealand          1\n",
       "Name: count, dtype: int64"
      ]
     },
     "execution_count": 62,
     "metadata": {},
     "output_type": "execute_result"
    }
   ],
   "source": [
    "# Get total research projects by country.\n",
    "original_data['country'].value_counts()"
   ]
  },
  {
   "cell_type": "markdown",
   "metadata": {},
   "source": [
    "### 2. Data Processing"
   ]
  },
  {
   "cell_type": "code",
   "execution_count": 63,
   "metadata": {},
   "outputs": [],
   "source": [
    "# Get total NaNs by Column\n",
    "original_data.isnull().sum()\n",
    "\n",
    "# Remove NaNs\n",
    "df = original_data.dropna()"
   ]
  },
  {
   "cell_type": "code",
   "execution_count": 8,
   "metadata": {},
   "outputs": [],
   "source": [
    "# !python -m spacy download en_core_web_lg\n",
    "# nltk.download('stopwords')"
   ]
  },
  {
   "cell_type": "markdown",
   "metadata": {},
   "source": [
    "#### a) Stopwords\n",
    "\n",
    "- Stopwords are used to eliminate common words (such as “the”, “the”, “and”, “is”) that do not contribute relevant meaning to the analysis, allowing you to focus on the most important words."
   ]
  },
  {
   "cell_type": "code",
   "execution_count": 64,
   "metadata": {},
   "outputs": [
    {
     "name": "stdout",
     "output_type": "stream",
     "text": [
      "['i', 'me', 'my', 'myself', 'we', 'our', 'ours', 'ourselves', 'you', \"you're\"]\n"
     ]
    }
   ],
   "source": [
    "# Load model\n",
    "nlp = spacy.load('en_core_web_lg')\n",
    "mystopwords = stopwords.words('english')\n",
    "# Showing first stopwords \n",
    "print(mystopwords[:10])"
   ]
  },
  {
   "cell_type": "markdown",
   "metadata": {},
   "source": [
    "#### b) Text Cleaning\n",
    "- In this part, the abstract of each document is cleaned up, removing punctuation, commas, numbers and HTML tags. Then, tokenization is applied."
   ]
  },
  {
   "cell_type": "code",
   "execution_count": 65,
   "metadata": {},
   "outputs": [],
   "source": [
    "def clean_text(document):\n",
    "    \"\"\"\n",
    "    Applying lemmatization and certain regex to remove special characters and html tags.\n",
    "\n",
    "    Parameters\n",
    "    ----------\n",
    "    document: Raw text to be cleaned.\n",
    "\n",
    "    Returns\n",
    "    -------\n",
    "    tokens: Texto split into tokens.\n",
    "    \"\"\"  \n",
    "\n",
    "    # Convert to Spacy Doc\n",
    "    lemma = nlp(document)\n",
    "\n",
    "    # Lemmatization\n",
    "    lemmas = ' '.join([word.lemma_ for word in lemma])\n",
    "\n",
    "    # Just alphabetics & remove html labels\n",
    "    words = re.sub('<br/>', '', lemmas)\n",
    "    words = re.sub(r'[^a-zA-ZáéíóúüñÁÉÍÓÚÜÑ]', ' ', lemmas)\n",
    "\n",
    "    # Get tokens\n",
    "    tokens = words.lower().split()\n",
    "\n",
    "    # Remove stopwords & keep tokens with size 5.\n",
    "    tokens = [token for token in tokens if token not in mystopwords and len(token) > 5]\n",
    "    return tokens"
   ]
  },
  {
   "cell_type": "code",
   "execution_count": 66,
   "metadata": {},
   "outputs": [],
   "source": [
    "def apply_transformation(df):\n",
    "  # Make a copy\n",
    "  data = df.copy()\n",
    "\n",
    "  # Apply data clean\n",
    "  df_clean = [clean_text(document) for document in data.text]\n",
    "  \n",
    "  # Create column  \n",
    "  data['clean text'] = df_clean\n",
    "\n",
    "  return data"
   ]
  },
  {
   "cell_type": "code",
   "execution_count": 68,
   "metadata": {},
   "outputs": [],
   "source": [
    "processed_df = apply_transformation(df)"
   ]
  },
  {
   "cell_type": "code",
   "execution_count": 93,
   "metadata": {},
   "outputs": [
    {
     "data": {
      "text/html": [
       "<div>\n",
       "<style scoped>\n",
       "    .dataframe tbody tr th:only-of-type {\n",
       "        vertical-align: middle;\n",
       "    }\n",
       "\n",
       "    .dataframe tbody tr th {\n",
       "        vertical-align: top;\n",
       "    }\n",
       "\n",
       "    .dataframe thead th {\n",
       "        text-align: right;\n",
       "    }\n",
       "</style>\n",
       "<table border=\"1\" class=\"dataframe\">\n",
       "  <thead>\n",
       "    <tr style=\"text-align: right;\">\n",
       "      <th></th>\n",
       "      <th>date</th>\n",
       "      <th>country</th>\n",
       "      <th>researcher</th>\n",
       "      <th>total_amount</th>\n",
       "      <th>text</th>\n",
       "      <th>clean text</th>\n",
       "    </tr>\n",
       "  </thead>\n",
       "  <tbody>\n",
       "    <tr>\n",
       "      <th>0</th>\n",
       "      <td>07/01/2020</td>\n",
       "      <td>United States</td>\n",
       "      <td>Janine M Ziermann-Canabarro</td>\n",
       "      <td>229338.00</td>\n",
       "      <td>Head and heart development are closely intertw...</td>\n",
       "      <td>[development, closely, intertwine, embryonic, ...</td>\n",
       "    </tr>\n",
       "    <tr>\n",
       "      <th>1</th>\n",
       "      <td>01/01/2020</td>\n",
       "      <td>United States</td>\n",
       "      <td>Jay B Brockman</td>\n",
       "      <td>27438.00</td>\n",
       "      <td>The National Academy of Engineering identified...</td>\n",
       "      <td>[national, academy, engineering, identify, com...</td>\n",
       "    </tr>\n",
       "    <tr>\n",
       "      <th>2</th>\n",
       "      <td>02/01/2020</td>\n",
       "      <td>United States</td>\n",
       "      <td>Tao Mei</td>\n",
       "      <td>49999.00</td>\n",
       "      <td>This award provides three years of funding to ...</td>\n",
       "      <td>[provide, funding, defray, expense, participan...</td>\n",
       "    </tr>\n",
       "    <tr>\n",
       "      <th>3</th>\n",
       "      <td>09/01/2020</td>\n",
       "      <td>United States</td>\n",
       "      <td>Michael R O'Rourke</td>\n",
       "      <td>372421.00</td>\n",
       "      <td>This collaborative research project, involving...</td>\n",
       "      <td>[collaborative, research, project, involve, mi...</td>\n",
       "    </tr>\n",
       "    <tr>\n",
       "      <th>4</th>\n",
       "      <td>05/01/2020</td>\n",
       "      <td>United States</td>\n",
       "      <td>Jacqueline A Smith</td>\n",
       "      <td>295500.00</td>\n",
       "      <td>Research Initiation Awards provide support for...</td>\n",
       "      <td>[research, initiation, awards, provide, suppor...</td>\n",
       "    </tr>\n",
       "  </tbody>\n",
       "</table>\n",
       "</div>"
      ],
      "text/plain": [
       "         date        country                   researcher  total_amount  \\\n",
       "0  07/01/2020  United States  Janine M Ziermann-Canabarro     229338.00   \n",
       "1  01/01/2020  United States               Jay B Brockman      27438.00   \n",
       "2  02/01/2020  United States                      Tao Mei      49999.00   \n",
       "3  09/01/2020  United States           Michael R O'Rourke     372421.00   \n",
       "4  05/01/2020  United States           Jacqueline A Smith     295500.00   \n",
       "\n",
       "                                                text  \\\n",
       "0  Head and heart development are closely intertw...   \n",
       "1  The National Academy of Engineering identified...   \n",
       "2  This award provides three years of funding to ...   \n",
       "3  This collaborative research project, involving...   \n",
       "4  Research Initiation Awards provide support for...   \n",
       "\n",
       "                                          clean text  \n",
       "0  [development, closely, intertwine, embryonic, ...  \n",
       "1  [national, academy, engineering, identify, com...  \n",
       "2  [provide, funding, defray, expense, participan...  \n",
       "3  [collaborative, research, project, involve, mi...  \n",
       "4  [research, initiation, awards, provide, suppor...  "
      ]
     },
     "execution_count": 93,
     "metadata": {},
     "output_type": "execute_result"
    }
   ],
   "source": [
    "# Validation\n",
    "processed_df.reset_index(drop=True, inplace=True)\n",
    "processed_df.head()"
   ]
  },
  {
   "cell_type": "markdown",
   "metadata": {},
   "source": [
    "### 3. LDA (Latent Dirichlet Allocation)\n",
    "- The LDA technique is within the area of topic modeling, an unsupervised technique to find different topics within a document.\n",
    "technique for finding different topics within a text document and between different\n",
    "document and between different documents."
   ]
  },
  {
   "cell_type": "markdown",
   "metadata": {},
   "source": [
    "#### a) Create dictionary\n",
    "\n",
    "The dictionary acts as a mapping between the unique words in the corpus and their unique identifiers (ID). This mapping allows transforming the text documents into a Bag of Words (BoW) representation, where each document is represented as a set of words with their respective frequencies. This is essential because LDA models work on these numerical representations instead of raw text."
   ]
  },
  {
   "cell_type": "code",
   "execution_count": 71,
   "metadata": {},
   "outputs": [],
   "source": [
    "# Create dictionary\n",
    "dictionary = corpora.Dictionary(processed_df['clean text'])\n",
    "# Apply filter to remove unknown words\n",
    "dictionary.filter_extremes(no_below = 15,  no_above = 0.5)\n",
    "# Convert documents to BoW\n",
    "corpus = [dictionary.doc2bow(doc) for doc in processed_df['clean text']]"
   ]
  },
  {
   "cell_type": "markdown",
   "metadata": {},
   "source": [
    "#### b) Train Model"
   ]
  },
  {
   "cell_type": "code",
   "execution_count": 72,
   "metadata": {},
   "outputs": [],
   "source": [
    "# Model Config\n",
    "lda_model = LdaModel(corpus=corpus,\n",
    "                     id2word=dictionary,\n",
    "                     num_topics=10,\n",
    "                     random_state=42,\n",
    "                     update_every=1,\n",
    "                     chunksize=100,\n",
    "                     passes=10,\n",
    "                     alpha='auto',\n",
    "                     per_word_topics=True)"
   ]
  },
  {
   "cell_type": "code",
   "execution_count": 73,
   "metadata": {},
   "outputs": [
    {
     "name": "stdout",
     "output_type": "stream",
     "text": [
      "(0, '0.018*\"specie\" + 0.014*\"biological\" + 0.014*\"protein\" + 0.012*\"function\" + 0.011*\"biology\" + 0.009*\"population\" + 0.009*\"understand\" + 0.008*\"determine\" + 0.008*\"evolution\" + 0.008*\"genetic\"')\n",
      "(1, '0.044*\"change\" + 0.023*\"climate\" + 0.018*\"global\" + 0.017*\"carbon\" + 0.017*\"environmental\" + 0.016*\"ecosystem\" + 0.011*\"marine\" + 0.010*\"coastal\" + 0.010*\"community\" + 0.010*\"natural\"')\n",
      "(2, '0.024*\"technology\" + 0.016*\"propose\" + 0.015*\"manufacturing\" + 0.014*\"development\" + 0.014*\"potential\" + 0.014*\"process\" + 0.010*\"enable\" + 0.009*\"innovation\" + 0.009*\"reduce\" + 0.009*\"business\"')\n",
      "(3, '0.019*\"social\" + 0.013*\"public\" + 0.013*\"health\" + 0.012*\"individual\" + 0.011*\"economic\" + 0.010*\"community\" + 0.010*\"information\" + 0.010*\"people\" + 0.009*\"understand\" + 0.008*\"examine\"')\n",
      "(4, '0.031*\"material\" + 0.023*\"energy\" + 0.017*\"quantum\" + 0.016*\"property\" + 0.012*\"structure\" + 0.010*\"chemical\" + 0.009*\"fundamental\" + 0.008*\"chemistry\" + 0.008*\"surface\" + 0.008*\"experimental\"')\n",
      "(5, '0.016*\"surface\" + 0.013*\"measurement\" + 0.012*\"earthquake\" + 0.011*\"observation\" + 0.011*\"seismic\" + 0.011*\"process\" + 0.010*\"mantle\" + 0.009*\"region\" + 0.009*\"atmospheric\" + 0.008*\"source\"')\n",
      "(6, '0.033*\"program\" + 0.028*\"science\" + 0.027*\"university\" + 0.023*\"community\" + 0.019*\"career\" + 0.015*\"opportunity\" + 0.013*\"graduate\" + 0.013*\"scientific\" + 0.013*\"mentor\" + 0.012*\"faculty\"')\n",
      "(7, '0.033*\"teacher\" + 0.028*\"education\" + 0.026*\"school\" + 0.024*\"program\" + 0.020*\"engineering\" + 0.016*\"technology\" + 0.015*\"science\" + 0.015*\"design\" + 0.013*\"learning\" + 0.013*\"development\"')\n",
      "(8, '0.026*\"theory\" + 0.021*\"problem\" + 0.020*\"method\" + 0.013*\"mathematical\" + 0.012*\"analysis\" + 0.011*\"computational\" + 0.010*\"question\" + 0.010*\"structure\" + 0.009*\"equation\" + 0.009*\"complex\"')\n",
      "(9, '0.048*\"system\" + 0.023*\"network\" + 0.017*\"design\" + 0.015*\"machine\" + 0.015*\"learning\" + 0.013*\"application\" + 0.012*\"computing\" + 0.011*\"software\" + 0.011*\"enable\" + 0.010*\"algorithm\"')\n"
     ]
    }
   ],
   "source": [
    "# Show the most important words of each topic\n",
    "topics = lda_model.print_topics(num_words=10)\n",
    "for topic in topics:\n",
    "    print(topic)"
   ]
  },
  {
   "cell_type": "markdown",
   "metadata": {},
   "source": [
    "#### c) Evaluation Model\n",
    "\n",
    "- Coherence evaluates how coherent the words within each theme are. If the words within a topic are closely related semantically, the topic is considered coherent. This is crucial because coherent topics are more interpretable and useful to users. A higher score is better coherence. "
   ]
  },
  {
   "cell_type": "code",
   "execution_count": 75,
   "metadata": {},
   "outputs": [
    {
     "name": "stdout",
     "output_type": "stream",
     "text": [
      "Coherence:  0.47722990168528173\n"
     ]
    }
   ],
   "source": [
    "coherence_model_lda = CoherenceModel(model = lda_model,\n",
    "                                     texts=processed_df['clean text'],\n",
    "                                     dictionary = dictionary,\n",
    "                                     coherence = 'c_v',\n",
    "                                     window_size = 2,\n",
    "                                     topn = 5\n",
    "                                     )\n",
    "\n",
    "coherence_lda = coherence_model_lda.get_coherence()\n",
    "\n",
    "print('Coherence: ', coherence_lda)"
   ]
  },
  {
   "cell_type": "markdown",
   "metadata": {},
   "source": [
    "#### d) Optimization"
   ]
  },
  {
   "cell_type": "code",
   "execution_count": 76,
   "metadata": {},
   "outputs": [],
   "source": [
    "def coherence_grid(dictionary, corpus, texts, limit, start, step):\n",
    "    \"\"\"\n",
    "    Coherence grid helps to train multiple models with diferent number of topics and evaluate with Coherence Model to get a determinate score.\n",
    "    \"\"\"\n",
    "    coherence_values = []\n",
    "    model_list = []\n",
    "\n",
    "    for num_topics in range(start, limit, step):\n",
    "\n",
    "      model = LdaModel(corpus=corpus,\n",
    "                     id2word=dictionary,\n",
    "                     num_topics=num_topics,\n",
    "                     random_state=42,\n",
    "                     update_every=1,\n",
    "                     chunksize=100,\n",
    "                     passes=10,\n",
    "                     alpha='auto',\n",
    "                     per_word_topics=True)\n",
    "\n",
    "      model_list.append(model)\n",
    "\n",
    "\n",
    "      coherencemodel = CoherenceModel(model=model,\n",
    "                                      texts=texts,\n",
    "                                      dictionary=dictionary,\n",
    "                                      coherence='c_v',\n",
    "                                      window_size=2,\n",
    "                                      topn=5)\n",
    "\n",
    "      coherence_values.append(coherencemodel.get_coherence())\n",
    "\n",
    "\n",
    "    return model_list, coherence_values"
   ]
  },
  {
   "cell_type": "code",
   "execution_count": 77,
   "metadata": {},
   "outputs": [],
   "source": [
    "# Train multiple models and get coherence score per each model\n",
    "model_list, coherence_values = coherence_grid(dictionary=dictionary,\n",
    "                                            corpus=corpus,\n",
    "                                            texts=processed_df['clean text'],\n",
    "                                            start = 7,\n",
    "                                            limit = 13,\n",
    "                                            step = 1)"
   ]
  },
  {
   "cell_type": "code",
   "execution_count": 78,
   "metadata": {},
   "outputs": [
    {
     "data": {
      "image/png": "[encoded data removed]",
      "text/plain": [
       "<Figure size 640x480 with 1 Axes>"
      ]
     },
     "metadata": {},
     "output_type": "display_data"
    }
   ],
   "source": [
    "def plot_best_coherence(start, limit, step, coherence_values):\n",
    "    \"\"\"\n",
    "    Visualization of Coherence Score.\n",
    "\n",
    "    Parameters\n",
    "    ----------\n",
    "    limit: int\n",
    "        Indicate the max. num of topics.\n",
    "    start: int\n",
    "        Indicate the min. num of topics.\n",
    "    step: int\n",
    "        The step size to increment the number of topics.\n",
    "    coherence_values: list\n",
    "        List of all scores of coherence model.\n",
    "    \"\"\"\n",
    "    x = range(start, limit, step)\n",
    "    plt.plot(x, coherence_values)\n",
    "    plt.xlabel(\"N Topics\")\n",
    "    plt.ylabel(\"Coherence\")\n",
    "    plt.show()\n",
    "\n",
    "plot_best_coherence(start=7, limit=13, step=1, coherence_values=coherence_values)"
   ]
  },
  {
   "cell_type": "code",
   "execution_count": 79,
   "metadata": {},
   "outputs": [],
   "source": [
    "def get_best_model(model_list, coherence_list):\n",
    "    \"\"\"\n",
    "    Selects the best LDA model based on the highest coherence score.\n",
    "\n",
    "    Parameters\n",
    "    ----------\n",
    "    model_list: list of models (LDA)\n",
    "        List of trained LDA models.\n",
    "    coherence_list: list of float\n",
    "        List of coherence scores corresponding to each model.\n",
    "\n",
    "    Returns\n",
    "    -------\n",
    "    best_model: LDA Model\n",
    "        The LDA model with the highest coherence score.\n",
    "    best_coherence: float\n",
    "        The highest coherence score.\n",
    "    \"\"\"\n",
    "    idx_best = np.argmax(coherence_list)\n",
    "    return model_list[idx_best], coherence_list[idx_best]"
   ]
  },
  {
   "cell_type": "code",
   "execution_count": 80,
   "metadata": {},
   "outputs": [
    {
     "name": "stdout",
     "output_type": "stream",
     "text": [
      "(0, '0.018*\"specie\" + 0.014*\"biological\" + 0.014*\"protein\" + 0.012*\"function\" + 0.011*\"biology\" + 0.009*\"population\" + 0.009*\"understand\" + 0.008*\"determine\" + 0.008*\"evolution\" + 0.008*\"genetic\"')\n",
      "(1, '0.044*\"change\" + 0.023*\"climate\" + 0.018*\"global\" + 0.017*\"carbon\" + 0.017*\"environmental\" + 0.016*\"ecosystem\" + 0.011*\"marine\" + 0.010*\"coastal\" + 0.010*\"community\" + 0.010*\"natural\"')\n",
      "(2, '0.024*\"technology\" + 0.016*\"propose\" + 0.015*\"manufacturing\" + 0.014*\"development\" + 0.014*\"potential\" + 0.014*\"process\" + 0.010*\"enable\" + 0.009*\"innovation\" + 0.009*\"reduce\" + 0.009*\"business\"')\n",
      "(3, '0.019*\"social\" + 0.013*\"public\" + 0.013*\"health\" + 0.012*\"individual\" + 0.011*\"economic\" + 0.010*\"community\" + 0.010*\"information\" + 0.010*\"people\" + 0.009*\"understand\" + 0.008*\"examine\"')\n",
      "(4, '0.031*\"material\" + 0.023*\"energy\" + 0.017*\"quantum\" + 0.016*\"property\" + 0.012*\"structure\" + 0.010*\"chemical\" + 0.009*\"fundamental\" + 0.008*\"chemistry\" + 0.008*\"surface\" + 0.008*\"experimental\"')\n",
      "(5, '0.016*\"surface\" + 0.013*\"measurement\" + 0.012*\"earthquake\" + 0.011*\"observation\" + 0.011*\"seismic\" + 0.011*\"process\" + 0.010*\"mantle\" + 0.009*\"region\" + 0.009*\"atmospheric\" + 0.008*\"source\"')\n",
      "(6, '0.033*\"program\" + 0.028*\"science\" + 0.027*\"university\" + 0.023*\"community\" + 0.019*\"career\" + 0.015*\"opportunity\" + 0.013*\"graduate\" + 0.013*\"scientific\" + 0.013*\"mentor\" + 0.012*\"faculty\"')\n",
      "(7, '0.033*\"teacher\" + 0.028*\"education\" + 0.026*\"school\" + 0.024*\"program\" + 0.020*\"engineering\" + 0.016*\"technology\" + 0.015*\"science\" + 0.015*\"design\" + 0.013*\"learning\" + 0.013*\"development\"')\n",
      "(8, '0.026*\"theory\" + 0.021*\"problem\" + 0.020*\"method\" + 0.013*\"mathematical\" + 0.012*\"analysis\" + 0.011*\"computational\" + 0.010*\"question\" + 0.010*\"structure\" + 0.009*\"equation\" + 0.009*\"complex\"')\n",
      "(9, '0.048*\"system\" + 0.023*\"network\" + 0.017*\"design\" + 0.015*\"machine\" + 0.015*\"learning\" + 0.013*\"application\" + 0.012*\"computing\" + 0.011*\"software\" + 0.011*\"enable\" + 0.010*\"algorithm\"')\n",
      "Best Coherence Score: 0.47722990168528173\n"
     ]
    }
   ],
   "source": [
    "final_model, best_coherence_score = get_best_model(model_list, coherence_values)\n",
    "\n",
    "# Show the most important words of each topic\n",
    "topics = final_model.print_topics(num_words=10)\n",
    "for topic in topics:\n",
    "    print(topic)\n",
    "\n",
    "print(f'Best Coherence Score: {best_coherence_score}')"
   ]
  },
  {
   "cell_type": "markdown",
   "metadata": {},
   "source": [
    "#### e) Results"
   ]
  },
  {
   "cell_type": "code",
   "execution_count": 81,
   "metadata": {},
   "outputs": [],
   "source": [
    "dominant_topics = []\n",
    "for row_list in final_model[corpus]:\n",
    "    row = row_list[0] if final_model.per_word_topics else row_list            \n",
    "    row = sorted(row, key=lambda x: (x[1]), reverse=True)\n",
    "    # Get dominant topic, contribution percentage and keywords.\n",
    "    topic_num, prop_topic = row[0]\n",
    "    # Append in dominant topics\n",
    "    dominant_topics.append((topic_num, prop_topic))\n",
    "\n",
    "# Create a DataFrame with topics\n",
    "df_topics = pd.DataFrame(dominant_topics, columns=['dominant_topic', 'percentage_contribution'])"
   ]
  },
  {
   "cell_type": "code",
   "execution_count": 84,
   "metadata": {},
   "outputs": [
    {
     "data": {
      "text/html": [
       "<div>\n",
       "<style scoped>\n",
       "    .dataframe tbody tr th:only-of-type {\n",
       "        vertical-align: middle;\n",
       "    }\n",
       "\n",
       "    .dataframe tbody tr th {\n",
       "        vertical-align: top;\n",
       "    }\n",
       "\n",
       "    .dataframe thead th {\n",
       "        text-align: right;\n",
       "    }\n",
       "</style>\n",
       "<table border=\"1\" class=\"dataframe\">\n",
       "  <thead>\n",
       "    <tr style=\"text-align: right;\">\n",
       "      <th></th>\n",
       "      <th>dominant_topic</th>\n",
       "      <th>percentage_contribution</th>\n",
       "    </tr>\n",
       "  </thead>\n",
       "  <tbody>\n",
       "    <tr>\n",
       "      <th>0</th>\n",
       "      <td>0</td>\n",
       "      <td>0.58</td>\n",
       "    </tr>\n",
       "    <tr>\n",
       "      <th>1</th>\n",
       "      <td>6</td>\n",
       "      <td>0.46</td>\n",
       "    </tr>\n",
       "    <tr>\n",
       "      <th>2</th>\n",
       "      <td>6</td>\n",
       "      <td>0.44</td>\n",
       "    </tr>\n",
       "    <tr>\n",
       "      <th>3</th>\n",
       "      <td>3</td>\n",
       "      <td>0.43</td>\n",
       "    </tr>\n",
       "    <tr>\n",
       "      <th>4</th>\n",
       "      <td>6</td>\n",
       "      <td>0.32</td>\n",
       "    </tr>\n",
       "  </tbody>\n",
       "</table>\n",
       "</div>"
      ],
      "text/plain": [
       "   dominant_topic  percentage_contribution\n",
       "0               0                     0.58\n",
       "1               6                     0.46\n",
       "2               6                     0.44\n",
       "3               3                     0.43\n",
       "4               6                     0.32"
      ]
     },
     "execution_count": 84,
     "metadata": {},
     "output_type": "execute_result"
    }
   ],
   "source": [
    "df_topics.head()"
   ]
  },
  {
   "cell_type": "code",
   "execution_count": 95,
   "metadata": {},
   "outputs": [
    {
     "data": {
      "text/html": [
       "<div>\n",
       "<style scoped>\n",
       "    .dataframe tbody tr th:only-of-type {\n",
       "        vertical-align: middle;\n",
       "    }\n",
       "\n",
       "    .dataframe tbody tr th {\n",
       "        vertical-align: top;\n",
       "    }\n",
       "\n",
       "    .dataframe thead th {\n",
       "        text-align: right;\n",
       "    }\n",
       "</style>\n",
       "<table border=\"1\" class=\"dataframe\">\n",
       "  <thead>\n",
       "    <tr style=\"text-align: right;\">\n",
       "      <th></th>\n",
       "      <th>date</th>\n",
       "      <th>country</th>\n",
       "      <th>researcher</th>\n",
       "      <th>total_amount</th>\n",
       "      <th>text</th>\n",
       "      <th>clean text</th>\n",
       "      <th>dominant_topic</th>\n",
       "      <th>percentage_contribution</th>\n",
       "    </tr>\n",
       "  </thead>\n",
       "  <tbody>\n",
       "    <tr>\n",
       "      <th>0</th>\n",
       "      <td>07/01/2020</td>\n",
       "      <td>United States</td>\n",
       "      <td>Janine M Ziermann-Canabarro</td>\n",
       "      <td>229338.00</td>\n",
       "      <td>Head and heart development are closely intertw...</td>\n",
       "      <td>[development, closely, intertwine, embryonic, ...</td>\n",
       "      <td>0</td>\n",
       "      <td>0.58</td>\n",
       "    </tr>\n",
       "    <tr>\n",
       "      <th>1</th>\n",
       "      <td>01/01/2020</td>\n",
       "      <td>United States</td>\n",
       "      <td>Jay B Brockman</td>\n",
       "      <td>27438.00</td>\n",
       "      <td>The National Academy of Engineering identified...</td>\n",
       "      <td>[national, academy, engineering, identify, com...</td>\n",
       "      <td>6</td>\n",
       "      <td>0.46</td>\n",
       "    </tr>\n",
       "    <tr>\n",
       "      <th>2</th>\n",
       "      <td>02/01/2020</td>\n",
       "      <td>United States</td>\n",
       "      <td>Tao Mei</td>\n",
       "      <td>49999.00</td>\n",
       "      <td>This award provides three years of funding to ...</td>\n",
       "      <td>[provide, funding, defray, expense, participan...</td>\n",
       "      <td>6</td>\n",
       "      <td>0.44</td>\n",
       "    </tr>\n",
       "    <tr>\n",
       "      <th>3</th>\n",
       "      <td>09/01/2020</td>\n",
       "      <td>United States</td>\n",
       "      <td>Michael R O'Rourke</td>\n",
       "      <td>372421.00</td>\n",
       "      <td>This collaborative research project, involving...</td>\n",
       "      <td>[collaborative, research, project, involve, mi...</td>\n",
       "      <td>3</td>\n",
       "      <td>0.43</td>\n",
       "    </tr>\n",
       "    <tr>\n",
       "      <th>4</th>\n",
       "      <td>05/01/2020</td>\n",
       "      <td>United States</td>\n",
       "      <td>Jacqueline A Smith</td>\n",
       "      <td>295500.00</td>\n",
       "      <td>Research Initiation Awards provide support for...</td>\n",
       "      <td>[research, initiation, awards, provide, suppor...</td>\n",
       "      <td>6</td>\n",
       "      <td>0.32</td>\n",
       "    </tr>\n",
       "  </tbody>\n",
       "</table>\n",
       "</div>"
      ],
      "text/plain": [
       "         date        country                   researcher  total_amount  \\\n",
       "0  07/01/2020  United States  Janine M Ziermann-Canabarro     229338.00   \n",
       "1  01/01/2020  United States               Jay B Brockman      27438.00   \n",
       "2  02/01/2020  United States                      Tao Mei      49999.00   \n",
       "3  09/01/2020  United States           Michael R O'Rourke     372421.00   \n",
       "4  05/01/2020  United States           Jacqueline A Smith     295500.00   \n",
       "\n",
       "                                                text  \\\n",
       "0  Head and heart development are closely intertw...   \n",
       "1  The National Academy of Engineering identified...   \n",
       "2  This award provides three years of funding to ...   \n",
       "3  This collaborative research project, involving...   \n",
       "4  Research Initiation Awards provide support for...   \n",
       "\n",
       "                                          clean text  dominant_topic  \\\n",
       "0  [development, closely, intertwine, embryonic, ...               0   \n",
       "1  [national, academy, engineering, identify, com...               6   \n",
       "2  [provide, funding, defray, expense, participan...               6   \n",
       "3  [collaborative, research, project, involve, mi...               3   \n",
       "4  [research, initiation, awards, provide, suppor...               6   \n",
       "\n",
       "   percentage_contribution  \n",
       "0                     0.58  \n",
       "1                     0.46  \n",
       "2                     0.44  \n",
       "3                     0.43  \n",
       "4                     0.32  "
      ]
     },
     "execution_count": 95,
     "metadata": {},
     "output_type": "execute_result"
    }
   ],
   "source": [
    "# Combine with Processed DataFrame\n",
    "final_df = pd.concat([processed_df, df_topics], axis=1)\n",
    "final_df.head()"
   ]
  },
  {
   "cell_type": "markdown",
   "metadata": {},
   "source": [
    "- This visualization helps to better understand the topics generated by the model and how they relate to the documents in the corpus."
   ]
  },
  {
   "cell_type": "code",
   "execution_count": 97,
   "metadata": {},
   "outputs": [
    {
     "data": {
      "text/html": [
       "\n",
       "<link rel=\"stylesheet\" type=\"text/css\" href=\"https://cdn.jsdelivr.net/gh/bmabey/pyLDAvis@3.4.0/pyLDAvis/js/ldavis.v1.0.0.css\">\n",
       "\n",
       "\n",
       "<div id=\"ldavis_el2212026145189508169337569232\" style=\"background-color:white;\"></div>\n",
       "<script type=\"text/javascript\">\n",
       "\n",
       "var ldavis_el2212026145189508169337569232_data = {\"mdsDat\": {\"x\": [-0.04951518467527757, -0.06221159898245963, 0.12192100331280627, 0.21369911245688647, -0.11852269096874121, 0.11247563527956711, 0.2705139973842722, -0.14622751467901263, -0.14892003370110635, -0.19321272542693496], \"y\": [0.0950202624400529, -0.1432638539586269, 0.25126253805536075, -0.21527732583307002, 0.09076885223945394, 0.19001871418047978, -0.09604707106566358, -0.09951069711023577, -0.0478583096081982, -0.025113109339552925], \"topics\": [1, 2, 3, 4, 5, 6, 7, 8, 9, 10], \"cluster\": [1, 1, 1, 1, 1, 1, 1, 1, 1, 1], \"Freq\": [12.168438371913966, 11.883237245307873, 11.419602972340893, 10.830171257313497, 10.794482071276281, 10.443011539321201, 10.226424743970197, 8.784851715202322, 7.404437324481475, 6.045342758872286]}, \"tinfo\": {\"Term\": [\"program\", \"change\", \"system\", \"teacher\", \"material\", \"education\", \"technology\", \"theory\", \"science\", \"university\", \"energy\", \"network\", \"school\", \"community\", \"social\", \"problem\", \"learning\", \"design\", \"climate\", \"quantum\", \"engineering\", \"method\", \"career\", \"specie\", \"surface\", \"property\", \"machine\", \"manufacturing\", \"global\", \"carbon\", \"quantum\", \"mechanical\", \"electron\", \"polymer\", \"magnetic\", \"deformation\", \"optical\", \"battery\", \"liquid\", \"crystal\", \"mineral\", \"spectroscopy\", \"composite\", \"atomic\", \"electrochemical\", \"microstructure\", \"velocity\", \"materials\", \"renewable\", \"extension\", \"undergraduates\", \"nanoparticle\", \"charge\", \"fabrication\", \"electric\", \"anisotropy\", \"diffusion\", \"inorganic\", \"semiconductor\", \"substrate\", \"material\", \"energy\", \"thermal\", \"electronic\", \"property\", \"characterization\", \"chemistry\", \"synthesis\", \"reaction\", \"matter\", \"hydrogen\", \"molecule\", \"chemical\", \"experimental\", \"structure\", \"interface\", \"fundamental\", \"particle\", \"surface\", \"physics\", \"experiment\", \"device\", \"molecular\", \"outreach\", \"application\", \"control\", \"technique\", \"system\", \"design\", \"understanding\", \"process\", \"undergraduate\", \"temperature\", \"social\", \"people\", \"policy\", \"pandemic\", \"protocol\", \"ecological\", \"disaster\", \"cultural\", \"recovery\", \"cognitive\", \"equipment\", \"mobility\", \"tribal\", \"perception\", \"prototype\", \"choice\", \"geoscience\", \"indigenous\", \"completion\", \"demographic\", \"hispanic\", \"biodiversity\", \"contact\", \"feasibility\", \"household\", \"consumption\", \"resident\", \"political\", \"longitudinal\", \"personal\", \"economic\", \"individual\", \"survey\", \"health\", \"intervention\", \"public\", \"examine\", \"inform\", \"finding\", \"action\", \"context\", \"family\", \"information\", \"behavior\", \"strategy\", \"factor\", \"identify\", \"collect\", \"whether\", \"community\", \"understand\", \"affect\", \"outcome\", \"effect\", \"knowledge\", \"response\", \"understanding\", \"relate\", \"different\", \"analysis\", \"population\", \"machine\", \"computing\", \"software\", \"privacy\", \"distribute\", \"neural\", \"vehicle\", \"artificial\", \"safety\", \"secure\", \"transportation\", \"expert\", \"internet\", \"mobile\", \"autonomous\", \"combinatoric\", \"defect\", \"traffic\", \"reliability\", \"cryptographic\", \"diagnostic\", \"automate\", \"deployment\", \"guarantee\", \"resilient\", \"adversary\", \"authentication\", \"entity\", \"fellow\", \"cooperative\", \"security\", \"intelligence\", \"attack\", \"network\", \"testing\", \"operation\", \"system\", \"algorithm\", \"decision\", \"infrastructure\", \"architecture\", \"performance\", \"learning\", \"communication\", \"design\", \"application\", \"enable\", \"challenge\", \"control\", \"technique\", \"platform\", \"framework\", \"integrate\", \"information\", \"computer\", \"resource\", \"technology\", \"improve\", \"mentor\", \"workshop\", \"conference\", \"leadership\", \"stakeholder\", \"mentoring\", \"presentation\", \"inclusive\", \"department\", \"scholar\", \"experiences\", \"seminar\", \"scholarship\", \"meeting\", \"session\", \"academia\", \"mentorship\", \"campus\", \"informal\", \"epscor\", \"talented\", \"senior\", \"priority\", \"symposium\", \"alliance\", \"discussion\", \"psychology\", \"interested\", \"expectation\", \"motivation\", \"institution\", \"inclusion\", \"participant\", \"university\", \"participation\", \"career\", \"faculty\", \"participate\", \"foster\", \"underrepresented\", \"encourage\", \"collaboration\", \"center\", \"program\", \"science\", \"minority\", \"scientific\", \"opportunity\", \"community\", \"summer\", \"diverse\", \"academic\", \"graduate\", \"broaden\", \"national\", \"researcher\", \"professional\", \"training\", \"experience\", \"partner\", \"scientist\", \"undergraduate\", \"development\", \"activity\", \"engineering\", \"college\", \"mathematical\", \"equation\", \"object\", \"geometric\", \"algebra\", \"algebraic\", \"random\", \"nonlinear\", \"robotic\", \"certain\", \"dynamical\", \"combinatorial\", \"probability\", \"conjecture\", \"statistic\", \"stochastic\", \"discrete\", \"partial\", \"assumption\", \"search\", \"linear\", \"simulate\", \"scheme\", \"polynomial\", \"approximation\", \"notion\", \"instance\", \"manifold\", \"regularity\", \"estimation\", \"statistical\", \"differential\", \"theory\", \"classical\", \"geometry\", \"problem\", \"topology\", \"representation\", \"optimization\", \"method\", \"computational\", \"operator\", \"theoretical\", \"example\", \"complex\", \"connection\", \"analysis\", \"question\", \"number\", \"structure\", \"dynamic\", \"dimensional\", \"function\", \"modeling\", \"investigator\", \"mathematic\", \"technique\", \"approach\", \"application\", \"result\", \"fundamental\", \"system\", \"different\", \"understand\", \"treatment\", \"patient\", \"commercial\", \"catalyst\", \"thrust\", \"oxygen\", \"manufacture\", \"reduction\", \"inference\", \"hardware\", \"membrane\", \"additive\", \"cancer\", \"clinical\", \"precision\", \"healthcare\", \"professor\", \"wireless\", \"therapy\", \"catalytic\", \"biomedical\", \"removal\", \"equitable\", \"catalysis\", \"dissolve\", \"therapeutic\", \"automation\", \"functionality\", \"rescue\", \"consume\", \"manufacturing\", \"product\", \"business\", \"innovation\", \"propose\", \"technology\", \"potential\", \"reduce\", \"industrial\", \"sensor\", \"production\", \"process\", \"development\", \"enable\", \"imaging\", \"produce\", \"industry\", \"target\", \"improve\", \"method\", \"require\", \"increase\", \"device\", \"objective\", \"control\", \"design\", \"result\", \"teacher\", \"technician\", \"curriculum\", \"teaching\", \"virtual\", \"district\", \"cybersecurity\", \"leader\", \"reality\", \"skilled\", \"instruction\", \"biotechnology\", \"certificate\", \"culturally\", \"internship\", \"credential\", \"pipeline\", \"curricular\", \"instructional\", \"thinking\", \"cohort\", \"company\", \"valley\", \"instructor\", \"employment\", \"learner\", \"sharing\", \"qualified\", \"workplace\", \"shortage\", \"persistence\", \"online\", \"educator\", \"classroom\", \"retention\", \"education\", \"school\", \"preparation\", \"course\", \"practice\", \"engineering\", \"college\", \"secondary\", \"workforce\", \"degree\", \"program\", \"learning\", \"technology\", \"knowledge\", \"design\", \"experience\", \"science\", \"professional\", \"development\", \"increase\", \"mathematic\", \"industry\", \"create\", \"educational\", \"improve\", \"engage\", \"undergraduate\", \"specie\", \"genetic\", \"animal\", \"microbial\", \"bacteria\", \"organism\", \"evolutionary\", \"genome\", \"genomic\", \"insect\", \"expression\", \"western\", \"microbe\", \"habitat\", \"abundance\", \"bacterial\", \"museum\", \"muscle\", \"extinction\", \"reconstruction\", \"immune\", \"pathogen\", \"sequencing\", \"specimen\", \"mutation\", \"fellowship\", \"similarity\", \"phytoplankton\", \"reproductive\", \"predator\", \"protein\", \"cellular\", \"regulate\", \"biological\", \"biology\", \"temporal\", \"sequence\", \"disease\", \"evolution\", \"function\", \"southern\", \"population\", \"stress\", \"molecular\", \"determine\", \"mechanism\", \"signal\", \"interaction\", \"understand\", \"diversity\", \"undergraduate\", \"hypothesis\", \"training\", \"identify\", \"response\", \"important\", \"climate\", \"coastal\", \"sediment\", \"broadly\", \"landscape\", \"methane\", \"nutrient\", \"driver\", \"oceanic\", \"forest\", \"cycling\", \"hurricane\", \"wildfire\", \"circulation\", \"historical\", \"antarctic\", \"dioxide\", \"vegetation\", \"greenhouse\", \"nitrogen\", \"tropical\", \"glacier\", \"watershed\", \"timing\", \"warming\", \"fossil\", \"geologic\", \"biogeochemical\", \"glacial\", \"margin\", \"ecosystem\", \"marine\", \"global\", \"carbon\", \"change\", \"record\", \"resilience\", \"environmental\", \"variability\", \"natural\", \"stream\", \"memory\", \"spatial\", \"condition\", \"future\", \"community\", \"management\", \"predict\", \"process\", \"across\", \"region\", \"production\", \"experiment\", \"increase\", \"temperature\", \"response\", \"understanding\", \"critical\", \"understand\", \"earthquake\", \"seismic\", \"mantle\", \"atmospheric\", \"isotope\", \"atmosphere\", \"arctic\", \"pacific\", \"subduction\", \"weather\", \"satellite\", \"tectonic\", \"alaska\", \"isotopic\", \"turbulence\", \"mixing\", \"northern\", \"volcanic\", \"eruption\", \"hydrologic\", \"convection\", \"island\", \"erosion\", \"mapping\", \"oxidation\", \"volcano\", \"seawater\", \"flooding\", \"timescale\", \"volatile\", \"observation\", \"measurement\", \"hazard\", \"surface\", \"instrument\", \"continental\", \"region\", \"element\", \"sample\", \"transport\", \"source\", \"resolution\", \"composition\", \"formation\", \"process\", \"measure\", \"result\", \"understand\", \"laboratory\", \"condition\", \"understanding\"], \"Freq\": [13558.0, 8199.0, 16256.0, 6821.0, 8301.0, 7087.0, 9756.0, 5815.0, 11011.0, 7131.0, 6201.0, 6424.0, 7167.0, 10415.0, 4515.0, 5223.0, 6062.0, 9696.0, 3440.0, 4099.0, 7052.0, 7260.0, 5461.0, 3198.0, 4017.0, 5017.0, 3404.0, 3312.0, 2901.0, 2806.0, 4098.422230338367, 1773.8797733307324, 1552.3339730586827, 1092.6374363652003, 1072.5683295624142, 1065.704643587214, 982.4701488245913, 862.011236906039, 817.8471092109257, 757.9111000297735, 704.2427534294519, 674.6371574760207, 669.7541870103368, 618.6135423217248, 572.7672850179354, 568.6443879309866, 556.524613954783, 544.5391462135921, 543.3955622133739, 537.9408571679463, 525.7328280898982, 524.0396737710372, 511.0495218938843, 502.9906884302052, 497.2799459748071, 478.7966461174935, 471.9447313172301, 465.168065906015, 434.8017075294621, 434.36904507507137, 7766.526135289118, 5618.7839696572655, 1062.7656395970969, 1070.0229995984819, 3942.8902126794387, 987.6557820370693, 2078.524211780522, 1128.1446974894707, 1447.7371500204424, 989.8116870818673, 734.9166552838703, 1263.1079363246295, 2446.308543547846, 1940.8719772268344, 3011.0412839167284, 1211.5198721476816, 2219.589283180814, 1153.642095969533, 2008.3402176992415, 1455.0053050505503, 1559.9801837755467, 1537.510561170736, 1266.8520886804354, 1355.7422597678972, 1709.7084954072573, 1541.4068774952395, 1294.8224674638418, 1499.8635875447517, 1387.1836996485717, 1321.5464797927023, 1359.1847255231235, 1311.0859821196875, 1139.2774728023005, 4514.87234993044, 2327.0004796037356, 1839.4213027210542, 1290.844668164678, 1282.1360647124045, 1272.870080134625, 1230.841861034668, 1055.7109170147357, 857.7986736892589, 827.4990095400922, 803.8801245331712, 702.8559170263895, 692.714384270174, 652.6649242403237, 641.8762349881862, 614.5356814400337, 612.2319702952484, 602.4194830565852, 595.5709288310886, 591.0686463413492, 578.3514968993444, 578.0103392768516, 513.468576894921, 508.07134442901673, 478.5258270360806, 476.2617045305917, 455.13634305375166, 447.35911000430445, 446.7145609754181, 445.70036844760466, 2605.311081138833, 2982.9792981856244, 1545.7923650588439, 3157.041461093671, 1006.0743894770605, 3233.8257017679675, 2035.8860373570124, 1540.6232999772137, 1350.3710658336922, 882.6949932454912, 1353.2324384767833, 959.1302258589077, 2447.5441853406523, 1983.3645858610842, 1444.9482129639334, 1235.1033032895937, 1793.7957884537464, 1176.9474800139017, 1164.3803860942162, 2486.050137034418, 2056.7334372403784, 1352.691318973651, 1313.1936326133157, 1517.553665284612, 1715.5892726418908, 1349.4461720425354, 1591.8418029990717, 1371.648108995089, 1420.3387708562009, 1469.550701826237, 1287.2267375592803, 3403.792204439183, 2682.5191502864295, 2534.5230304898278, 1695.8198306157974, 1465.55467915854, 1154.923129933734, 1114.6686388600713, 1094.0843257838342, 1081.151178900718, 1061.2904573028043, 991.1022994524942, 902.2806371868247, 899.358034608753, 828.4974238199563, 736.003917397826, 663.3206406749506, 592.1458161603493, 545.7008135414236, 543.8042688527439, 540.5963358548238, 531.2121713043244, 518.570713479308, 477.86109478977403, 407.23863655820486, 397.52894206128366, 395.4409915838785, 394.31265661481285, 394.0095435625661, 347.73606251613836, 340.32011205156107, 2394.574791249127, 1073.3215397424342, 719.6191076794009, 5354.331647039561, 1200.5934564212644, 916.0272586720239, 11200.636524280031, 2395.6611484283794, 1842.3236103468132, 2111.321382865013, 858.9747002803485, 2387.382416971887, 3369.646101481161, 1710.745278968721, 3943.949470934059, 3010.2271997431963, 2453.684045794598, 1981.4284139441775, 1998.7777967533077, 1835.49809716463, 1310.2452631843885, 1484.059286432393, 1638.5558744456396, 1802.6866615982613, 1187.0053697982357, 1217.2588006374665, 1241.7798652061367, 1168.0638486350288, 2829.847554319981, 2158.5153136595045, 1152.6501628647356, 787.7295472464634, 760.2778956529557, 756.6527882280753, 754.453980224079, 684.0731129032268, 641.5861118338391, 640.2560438010207, 625.5634068521553, 614.8672088553528, 606.6996017341281, 587.5679534377408, 489.3338997299493, 486.99169009296713, 473.51561617803844, 426.3437103337906, 416.6741678626659, 398.7208046874905, 386.9043005974956, 354.2387015688752, 349.52466674027255, 334.47245249643623, 323.1893094693979, 321.922816501239, 316.18240722642463, 309.7813078905837, 303.1842450616266, 302.4305688027321, 1982.5376948893672, 625.6270841275295, 2302.836434236417, 5994.0811419769625, 2070.9481234733425, 4208.082182107165, 2644.5685560737406, 1507.411800003649, 873.0848464571233, 2549.8016431309725, 733.3359177892296, 1862.840566478627, 2283.1874464066314, 7325.291481744873, 6124.801695988214, 1310.2757455662825, 2880.7069927832263, 3216.603291643389, 5111.120389615358, 1622.866059428735, 2360.8704516204066, 1246.2950065794798, 2906.893786780013, 1072.2352696634734, 1834.2826883179023, 2286.195507745742, 1822.6519266495347, 2449.1244978106056, 2100.995007328534, 1167.0150611563176, 1424.9700683261872, 2152.1486082292226, 2048.3965557622096, 1812.6837244695116, 1645.86173269605, 1456.6699038625236, 2863.282362283568, 2068.655590264867, 1359.2260584958462, 1351.1608041037948, 1210.8248275630683, 1172.0460200676307, 1111.4472505009794, 811.7598218033493, 749.2901890922495, 740.5635184370094, 670.0330628482903, 632.4792889400447, 618.6538298408155, 579.5501974312189, 537.9755627618183, 508.59120930324616, 492.58096265217296, 480.5976891959538, 476.32188901259946, 473.97191294003767, 443.79951396681054, 397.5192986195886, 377.124374059896, 366.48344198094406, 364.24165598485615, 331.1217905449814, 327.4642884987635, 320.53411304463276, 320.358176827994, 314.52014046504775, 1210.6931046168531, 769.3318404526086, 5590.161691616193, 777.9421711197762, 1753.595900183506, 4597.088443375118, 563.7072277157107, 882.7390318994763, 907.9235831003529, 4452.0986635636955, 2454.5863003658815, 971.4509215261322, 1227.7641131994553, 1311.537971388408, 2022.7406182996392, 1039.8443684197553, 2679.753076756028, 2155.6622127633723, 1580.0191848265054, 2154.2294583043063, 1730.6970935644035, 1018.9430032596196, 1467.9694120933625, 1309.8471703533455, 1231.1954297303332, 1162.6703617643898, 1435.843581183802, 1452.3686475631807, 1457.5713473800542, 1313.904298221115, 1183.2993161293361, 1344.9740024613682, 1175.8330802397954, 1180.6655703222943, 1537.110926794024, 1461.2602859127207, 1424.652522858212, 1182.9387678524315, 1002.9832053956941, 908.6264443099201, 850.0338981118449, 841.5599792682515, 805.9746943603219, 738.2616470370366, 719.8332389168668, 704.0283651379045, 702.299431417112, 662.2167998626268, 616.5073107647842, 614.001748985286, 565.3196371472592, 531.9355211559707, 518.5765329776302, 504.24148693388474, 501.7873718354328, 493.9636818772849, 475.97015590293216, 468.88746569851253, 459.1096395939196, 458.6161161162586, 458.17793231562337, 421.5478461322699, 409.8209841987494, 405.72626696549673, 3174.5895975799717, 1820.288045687848, 1823.9133612349838, 1934.5461964485362, 3356.169377093495, 5164.619166956534, 2960.8006476845335, 1895.0457895459297, 1128.3129381653698, 1086.5687857824976, 1325.6802454504525, 2884.1180883459288, 3033.7784546466473, 2131.8270693671866, 966.2440660464831, 1331.1850403224003, 1638.9573193601561, 1024.5738596551535, 1500.0128433598122, 1604.602171903335, 1146.966795103343, 1370.277224709885, 1122.6094526631746, 1071.402757571623, 1164.4785751448337, 1240.268505000228, 1085.622738481036, 6820.552059162428, 1816.8212791148617, 1756.5557896066975, 1477.8253671703628, 1189.835506424829, 1065.1272602738463, 983.2633636326921, 761.9031431306454, 752.0457597511455, 674.034316406522, 667.006977946145, 655.5891273131296, 632.7695436851811, 535.6498682913157, 524.3930010135196, 517.7264274103427, 479.7552023440006, 461.5798147910852, 459.2372077829547, 433.3849506062174, 427.0133201286703, 425.6747840653986, 421.4855975995872, 415.7749350526275, 404.5153412881497, 384.1934607425749, 340.87342375550577, 338.32555814383045, 336.2165121186921, 319.3624330937326, 800.8026283351768, 1808.8016442715784, 1373.4274682850098, 891.8996152903413, 1067.866776183859, 5891.075859656758, 5414.09955044635, 825.1274256369867, 2110.2321674858845, 2415.397543146401, 4060.3800930241373, 2454.814143948813, 827.2816879102786, 2054.211890125609, 1078.7855591131338, 4986.04403681568, 2691.791101086377, 3245.730193781616, 2382.936813073826, 3104.0106009933656, 2180.0780968856575, 3202.497090701749, 1631.36169800597, 2639.9604444995257, 2036.5855639083309, 1310.805908232712, 1831.3061135980931, 1732.5478438367734, 1482.2432407226204, 1614.473791243598, 1339.8430396483948, 1363.8971185381004, 3197.700863542714, 1452.5865975152115, 1294.6758716053494, 1014.3793462095002, 974.3813766584806, 959.7710276067685, 921.7684007481604, 882.8382840196056, 854.6948073231913, 699.9990811609647, 587.8856444510817, 565.2849291304033, 514.274976071198, 513.287709657385, 512.5004169243006, 504.6975881618883, 475.4182327702737, 473.6862053390537, 464.05637822864077, 458.4198895535418, 455.5861414521879, 378.042657351307, 376.5705045064237, 372.6077590595794, 368.6421947465889, 368.4701195499254, 353.8132592068001, 348.70369123148186, 342.00434493054485, 340.7561675825473, 2518.2176560098724, 1236.1242908953136, 855.1516294545409, 2536.8563306002434, 1946.712111103386, 865.5900566097907, 867.1366192301525, 1395.6428483103048, 1472.219005329966, 2067.6489304823685, 754.4214375058712, 1647.1682847530578, 899.4600598823286, 1308.2891711195643, 1484.8475256652027, 1371.626440375496, 958.0317871945272, 1178.9854595715203, 1535.4962493185478, 933.7879630879777, 1307.7722408130373, 887.2107599515913, 1058.9374121068875, 985.278035378153, 965.6006086128862, 882.1397855701284, 3439.2072475947816, 1520.106862793807, 1031.2773046126454, 918.1726117478969, 913.473039101592, 844.56425890035, 779.9460434542152, 617.8713032738623, 592.5237851863476, 591.7567119552393, 588.4962489127827, 554.6202908674134, 548.195065501276, 542.4829310330928, 528.4003903241135, 513.9260671545157, 505.93937222938104, 492.36615221320784, 448.35877590549353, 439.61646807628915, 437.56926233897053, 430.78108002991826, 419.12487923110785, 408.03247061855785, 394.9746508589245, 384.1018402812436, 376.0694787480621, 356.29747964482647, 348.5819542262341, 344.3270981730578, 2351.742684833986, 1669.6670656081908, 2666.9651294720343, 2568.889048277307, 6620.445887794719, 1330.7422887330404, 1344.1352182384858, 2491.079856649759, 707.9271121828326, 1444.354799869672, 613.099754183352, 678.0937845002984, 791.9385768995888, 1214.6022164440733, 1178.9305509358464, 1519.0135196423157, 798.0367287248497, 856.4470806783427, 1327.912985555386, 1050.4813886070883, 885.1372407387853, 828.4686488550174, 902.7796455341024, 1010.1267120227282, 833.5395640493873, 863.5581437256965, 931.5108950597806, 865.283272345207, 842.230964267326, 1432.193867166868, 1336.727672176173, 1248.9306040543563, 1097.0190191312868, 962.9032089305748, 856.4786977158632, 832.634628033703, 792.0354958983061, 756.2774073870066, 720.150354112569, 659.985078211954, 658.6038708591145, 627.9038573557038, 518.7989743190915, 517.0844035657547, 513.2013446854106, 494.02242279237737, 451.17949195515587, 434.0620829408102, 422.2831096651498, 420.282101986912, 402.95667603636684, 391.1242151365466, 389.4091309020178, 383.9022162789121, 372.85757816118456, 368.48639835444044, 366.24336987440387, 360.5256997487417, 357.6898001791504, 1344.2224436536565, 1584.3060520755869, 770.4193070010203, 1955.5794266527203, 532.8737790573591, 478.707732135984, 1129.5305942798443, 928.8601476003383, 915.4065980508462, 850.7065985838559, 997.4746424073124, 742.3976113947427, 717.6043432025579, 724.7030495206621, 1295.1256542194612, 831.3990211255101, 985.8245529108277, 896.1478583592001, 718.5498902907733, 725.7055359677166, 658.9791115034875], \"Total\": [13558.0, 8199.0, 16256.0, 6821.0, 8301.0, 7087.0, 9756.0, 5815.0, 11011.0, 7131.0, 6201.0, 6424.0, 7167.0, 10415.0, 4515.0, 5223.0, 6062.0, 9696.0, 3440.0, 4099.0, 7052.0, 7260.0, 5461.0, 3198.0, 4017.0, 5017.0, 3404.0, 3312.0, 2901.0, 2806.0, 4099.325593395454, 1774.7832469016207, 1553.237355181935, 1093.5407828030031, 1073.4717608039734, 1066.6081427589645, 983.3735677408935, 862.9146417394334, 818.7504823565505, 758.8145128031108, 705.1463195114289, 675.5405789014163, 670.6575739836719, 619.5169113324789, 573.6706386737286, 569.5477484004808, 557.4283371422285, 545.4425316800017, 544.2990213211111, 538.8452494509655, 526.6375291564508, 524.9429856488622, 511.9529337427403, 503.89417562134486, 498.1833833013652, 479.7003922112534, 472.8482712784725, 466.07158758546575, 435.70505886419187, 435.27251172739494, 8301.538560801908, 6201.023147203716, 1140.9896461377805, 1167.0251142615386, 5017.444692956926, 1088.6481299077857, 2565.5919717996344, 1282.7423575896078, 1797.1556341551723, 1161.736084607774, 801.0381874637636, 1614.3901555413752, 3896.0397785939313, 2891.4803428575296, 5765.72395092379, 1646.940346647728, 4151.54360896004, 1584.389488560274, 4017.81275885569, 2531.8457632178747, 3496.292871737009, 3473.9081034919786, 2575.9289628538822, 3122.855440860793, 6527.013808001361, 5635.234556214395, 4953.729929950133, 16256.255557555649, 9696.537803347808, 6582.553447920902, 8898.940292703173, 6975.035929817986, 2586.7658375375104, 4515.767702350331, 2327.895898419856, 1840.3166334599284, 1291.740010688625, 1283.0318256985802, 1273.7656199940702, 1231.7372256518815, 1056.606336803065, 858.6941606032542, 828.3944354609955, 804.7760557325238, 703.7512897139715, 693.6099577766474, 653.5603120478638, 642.771902369928, 615.4310961224526, 613.1275937250115, 603.314911344878, 596.4666778288207, 591.9641403781407, 579.2470965292688, 578.9058219283165, 514.3640933208139, 508.9670545372662, 479.42114314800733, 477.15733581121424, 456.0317551358811, 448.254419513453, 447.6100481882724, 446.5958069453524, 2666.520283035748, 3371.3717301425395, 1711.4466663607527, 3738.119405023116, 1114.2155842490174, 4445.792353804784, 2941.125548730397, 2131.839630157824, 1855.2589659077007, 1049.9283144240806, 1919.6176507714397, 1229.1344848741844, 5365.68562777907, 3883.3813337518563, 2398.2092028985044, 1998.8220240613414, 4060.590512704289, 1983.4498889029505, 1942.8265831320407, 10415.8850590241, 7465.305350593132, 2813.3558376843407, 2653.789510686686, 3885.009078221558, 5917.655844983643, 3336.6206347885286, 6582.553447920902, 3700.2071739920366, 4670.188686490245, 5986.253782655394, 3252.1410912582764, 3404.689746945462, 2683.4168132303503, 2535.4206633384674, 1696.7173357149754, 1466.4525595849543, 1155.8206923391751, 1115.5662650837353, 1094.9818959439624, 1082.04879164875, 1062.1881303604753, 991.9999468615997, 903.1785231413435, 900.2557263725696, 829.3950268190358, 736.9014279927196, 664.2199399392607, 593.04365212956, 546.5983529674328, 544.7018401345589, 541.4938451874062, 532.1099420994142, 519.468256163619, 478.75885910037584, 408.13613499562774, 398.42668269180916, 396.3384726591528, 395.2102821068502, 394.9072268372264, 348.6343929138234, 341.2179714302576, 2524.036183933589, 1105.3661252720688, 746.9666388393324, 6424.928616153371, 1310.604292820047, 997.6290736745725, 16256.255557555649, 3073.012732731703, 2428.9589592242187, 2873.904085872122, 975.5832139766471, 3646.3280547333866, 6062.249807296154, 2632.6316011771723, 9696.537803347808, 6527.013808001361, 5555.670670200743, 4807.883318918534, 5635.234556214395, 4953.729929950133, 2268.8285571236866, 3163.9922040874058, 4102.976510121224, 5365.68562777907, 2668.9874139298136, 3790.450819767249, 9756.815037751096, 5672.46754891586, 2830.7592348252037, 2159.426959208886, 1153.561718518575, 788.6411383938246, 761.1895526379421, 757.5644812198933, 755.3656344009077, 684.9847093077786, 642.4977342058755, 641.1677523471711, 626.4750909495832, 615.7788683577731, 607.6111476172744, 588.4795318038349, 490.24551817986236, 487.90345282416394, 474.4273641747537, 427.25532997277963, 417.5858072601331, 399.6324889094427, 387.8159060134364, 355.1504986462827, 350.43644353878597, 335.38412232355495, 324.10088735156614, 322.83439460990184, 317.09418481820563, 310.6931131537841, 304.0965685792194, 303.3423355471107, 2065.565611368, 647.5053774446328, 2555.9654060346174, 7131.220119170386, 2303.484123748875, 5461.520799045967, 3302.939928372099, 1781.6563717823274, 970.1544610695727, 3348.226810120412, 802.2000946974381, 2468.3387250480755, 3239.5620360331986, 13558.95133425182, 11011.80603291244, 1675.0690876478322, 4508.667999130587, 5201.575904749947, 10415.8850590241, 2257.595959488046, 3874.274551055428, 1625.033051707321, 5756.325330017883, 1403.3795971368743, 3269.4973084702674, 4827.113485934086, 3454.8402857049236, 5767.005820980541, 5293.031558236603, 1773.9134138788615, 2724.9106803991335, 6975.035929817986, 9809.514147727195, 6463.148951209795, 7052.852120374892, 3912.3107472525726, 2864.211772045942, 2069.584902012788, 1360.1554394797427, 1352.0901293116729, 1211.7541089018164, 1172.9752712111817, 1112.3765804406742, 812.6891980516428, 750.2198681516674, 741.4929463148778, 670.9624459902683, 633.4085636941751, 619.5831806684491, 580.4794958255193, 538.9050249657391, 509.5205601336973, 493.51031446114683, 481.52708800700395, 477.2513906316503, 474.90131945508756, 444.72887303632973, 398.44886908192296, 378.0538389979752, 367.41272348885883, 365.1709433226391, 332.0511967468601, 328.3937385061774, 321.4634189444417, 321.28758369562394, 315.449555046763, 1222.4783574201235, 773.3122132279268, 5815.350487558772, 788.455897731714, 1816.4184011953932, 5223.086193785031, 594.2630675301613, 990.0135043561203, 1028.9681122416528, 7260.168834970879, 3592.271629455115, 1209.741059555207, 1719.2696893626205, 1891.1882280252187, 3459.2264288141673, 1410.5614303274563, 5986.253782655394, 4515.397567363977, 2801.3848149842565, 5765.72395092379, 3993.2091929825838, 1535.5199477616247, 3884.606604814644, 2955.2734461716454, 2875.905286354271, 2474.320649649803, 4953.729929950133, 6156.926868328131, 6527.013808001361, 7623.348718051121, 4151.54360896004, 16256.255557555649, 4670.188686490245, 7465.305350593132, 1538.0147334869312, 1462.1640393869511, 1425.5563596989925, 1183.8426395029226, 1003.8871806620209, 909.5304595010441, 850.9377830757304, 842.4639116190123, 806.8786815404599, 739.1655170115297, 720.7370546630931, 704.9322040797312, 703.2032334882973, 663.1206880070238, 617.4112826408629, 614.9055750450625, 566.2239128562554, 532.8393599361553, 519.4803246142089, 505.14532173024463, 502.6912276827779, 494.8677706555061, 476.8748539264804, 469.79134147871815, 460.0138496347361, 459.51988258854556, 459.08189867568063, 422.4518471269925, 410.7257658025786, 406.63037688929984, 3312.3189855011415, 1967.6405775626333, 2025.5746397631424, 2437.076622375648, 5209.387307659474, 9756.815037751096, 4948.563393721259, 2889.6336774140336, 1557.366698958171, 1485.0361709522363, 2166.8416373071273, 8898.940292703173, 9809.514147727195, 5555.670670200743, 1457.5733207216624, 3365.652494258865, 5548.427066391993, 1902.7096571783543, 5672.46754891586, 7260.168834970879, 2996.4549571642015, 6327.800223769114, 3473.9081034919786, 2957.8461552193367, 5635.234556214395, 9696.537803347808, 7623.348718051121, 6821.475178975533, 1817.7448737536802, 1757.4790077590371, 1478.7485946063057, 1190.7587113530585, 1066.0503772982188, 984.186443056652, 762.8263713642739, 752.9691040136101, 674.9575718930647, 667.9300683383458, 656.5127463633336, 633.6931574832688, 536.5729520348831, 525.3164198130311, 518.650075678149, 480.6785568249174, 462.5029358437404, 460.16036967487446, 434.3081369980155, 427.9365479726968, 426.59835458187536, 422.40910955146836, 416.6980837705893, 405.4385001888761, 385.1165843203628, 341.7966912168762, 339.24867188131094, 337.1398469563097, 320.285542701377, 803.385829668601, 1845.7127075994504, 1400.5621033422017, 934.006095543321, 1131.0929883462027, 7087.528493059421, 7167.374356364802, 895.4664010419345, 2699.9260172726736, 3363.545561126562, 7052.852120374892, 3912.3107472525726, 984.087048794441, 3271.766013104113, 1445.1753801313496, 13558.95133425182, 6062.249807296154, 9756.815037751096, 5917.655844983643, 9696.537803347808, 5293.031558236603, 11011.80603291244, 3454.8402857049236, 9809.514147727195, 6327.800223769114, 2474.320649649803, 5548.427066391993, 4876.554103263214, 3386.28771701688, 5672.46754891586, 2937.025504951939, 6975.035929817986, 3198.59325495619, 1453.4789584469559, 1295.5682198472725, 1015.2716991422972, 975.2737210806407, 960.6633853929466, 922.660756825394, 883.7306236124379, 855.587160371487, 700.8915211425103, 588.7781004337679, 566.1776649859876, 515.167306327039, 514.1800798608523, 513.3929233927132, 505.58994597387255, 476.3109271566373, 474.5786427996229, 464.948753142916, 459.31258248280704, 456.4785309704903, 378.9349853138673, 377.46296153507205, 373.5001472973039, 369.5345656685839, 369.3630175930006, 354.7060974679745, 349.5961110568102, 342.8967157231609, 341.64853321616624, 2541.930061877743, 1248.9151741217017, 864.3982859830401, 2657.868768517939, 2226.5051213063252, 951.5434824862286, 1049.6951236303576, 2079.9165885599623, 2313.973512738269, 3884.606604814644, 954.6788858916104, 3252.1410912582764, 1357.9068714949783, 2575.9289628538822, 3626.1032436615205, 3718.1590564832154, 2168.0212174389053, 3867.401838406237, 7465.305350593132, 2230.190892836545, 6975.035929817986, 1942.3165045875278, 5767.005820980541, 4060.590512704289, 3336.6206347885286, 4574.807295408492, 3440.112833101711, 1521.012434740101, 1032.1828435317052, 919.0788293507907, 914.3787725351277, 845.4698442923136, 780.851622842851, 618.7769785884265, 593.4294291610436, 592.6622800111634, 589.4018616048556, 555.5259816588465, 549.1006453662451, 543.3885326877642, 529.3061344618155, 514.8315926093113, 506.84502893327397, 493.2717752260756, 449.2644919495462, 440.5220877158434, 438.47491227975974, 431.6866825975275, 420.0304652527844, 408.9382083383153, 395.8802334306279, 385.0075130292915, 376.97518644877147, 357.2030287370953, 349.48750717878323, 345.2327111272109, 2365.7169286512194, 1726.3254114968126, 2901.536443064009, 2806.8830070865824, 8199.164914514073, 1554.1806211096, 1644.1983302591148, 3498.7215561668445, 900.785122032747, 2622.961222149829, 743.7516189467117, 897.5891353527561, 1408.3832872493847, 3712.038895106563, 3842.345997209666, 10415.8850590241, 1730.8913785077682, 2154.9306867896803, 8898.940292703173, 4408.231874518174, 2745.7472467894477, 2166.8416373071273, 3496.292871737009, 6327.800223769114, 2586.7658375375104, 3336.6206347885286, 6582.553447920902, 3915.0487984692854, 7465.305350593132, 1433.1044219076846, 1337.638225564652, 1249.8411452480423, 1097.9296885451158, 963.813770972111, 857.3892679895264, 833.545198732261, 792.9460951749892, 757.1879413759297, 721.0610041200671, 660.8957388971443, 659.5144095861398, 628.8144862660577, 519.7095918922471, 517.9949870762523, 514.1120285695508, 494.9333726627806, 452.09003454371907, 434.9726404215452, 423.19381856898684, 421.1927199550978, 403.8674338337353, 392.0348377696458, 390.3202120223012, 384.81357224754095, 373.76809684555155, 369.39698915266104, 367.15413924368005, 361.43635598493813, 358.60060874258386, 1736.1197140576164, 2377.397093330791, 981.9935970484046, 4017.81275885569, 626.1307068154799, 558.654558111564, 2745.7472467894477, 1942.3959203172985, 1950.9654505366796, 1841.3466083731385, 3101.9248789464077, 1586.9733051448038, 1565.5701748396252, 1657.2607985593302, 8898.940292703173, 3144.0818495525195, 7623.348718051121, 7465.305350593132, 2514.736831900429, 3712.038895106563, 6582.553447920902], \"Category\": [\"Default\", \"Default\", \"Default\", \"Default\", \"Default\", \"Default\", \"Default\", \"Default\", \"Default\", \"Default\", \"Default\", \"Default\", \"Default\", \"Default\", \"Default\", \"Default\", \"Default\", \"Default\", \"Default\", \"Default\", \"Default\", \"Default\", \"Default\", \"Default\", \"Default\", \"Default\", \"Default\", \"Default\", \"Default\", \"Default\", \"Topic1\", \"Topic1\", \"Topic1\", \"Topic1\", \"Topic1\", \"Topic1\", \"Topic1\", \"Topic1\", \"Topic1\", \"Topic1\", \"Topic1\", \"Topic1\", \"Topic1\", \"Topic1\", \"Topic1\", \"Topic1\", \"Topic1\", \"Topic1\", \"Topic1\", \"Topic1\", \"Topic1\", \"Topic1\", \"Topic1\", \"Topic1\", \"Topic1\", \"Topic1\", \"Topic1\", \"Topic1\", \"Topic1\", \"Topic1\", \"Topic1\", \"Topic1\", \"Topic1\", \"Topic1\", \"Topic1\", \"Topic1\", \"Topic1\", \"Topic1\", \"Topic1\", \"Topic1\", \"Topic1\", \"Topic1\", \"Topic1\", \"Topic1\", \"Topic1\", \"Topic1\", \"Topic1\", \"Topic1\", \"Topic1\", \"Topic1\", \"Topic1\", \"Topic1\", \"Topic1\", \"Topic1\", \"Topic1\", \"Topic1\", \"Topic1\", \"Topic1\", \"Topic1\", \"Topic1\", \"Topic1\", \"Topic1\", \"Topic1\", \"Topic2\", \"Topic2\", \"Topic2\", \"Topic2\", \"Topic2\", \"Topic2\", \"Topic2\", \"Topic2\", \"Topic2\", \"Topic2\", \"Topic2\", \"Topic2\", \"Topic2\", \"Topic2\", \"Topic2\", \"Topic2\", \"Topic2\", \"Topic2\", \"Topic2\", \"Topic2\", \"Topic2\", \"Topic2\", \"Topic2\", \"Topic2\", \"Topic2\", \"Topic2\", \"Topic2\", \"Topic2\", \"Topic2\", \"Topic2\", \"Topic2\", \"Topic2\", \"Topic2\", \"Topic2\", \"Topic2\", \"Topic2\", \"Topic2\", \"Topic2\", \"Topic2\", \"Topic2\", \"Topic2\", \"Topic2\", \"Topic2\", \"Topic2\", \"Topic2\", \"Topic2\", \"Topic2\", \"Topic2\", \"Topic2\", \"Topic2\", \"Topic2\", \"Topic2\", \"Topic2\", \"Topic2\", \"Topic2\", \"Topic2\", \"Topic2\", \"Topic2\", \"Topic2\", \"Topic2\", \"Topic2\", \"Topic3\", \"Topic3\", \"Topic3\", \"Topic3\", \"Topic3\", \"Topic3\", \"Topic3\", \"Topic3\", \"Topic3\", \"Topic3\", \"Topic3\", \"Topic3\", \"Topic3\", \"Topic3\", \"Topic3\", \"Topic3\", \"Topic3\", \"Topic3\", \"Topic3\", \"Topic3\", \"Topic3\", \"Topic3\", \"Topic3\", \"Topic3\", \"Topic3\", \"Topic3\", \"Topic3\", \"Topic3\", \"Topic3\", \"Topic3\", \"Topic3\", \"Topic3\", \"Topic3\", \"Topic3\", \"Topic3\", \"Topic3\", \"Topic3\", \"Topic3\", \"Topic3\", \"Topic3\", \"Topic3\", \"Topic3\", \"Topic3\", \"Topic3\", \"Topic3\", \"Topic3\", \"Topic3\", \"Topic3\", \"Topic3\", \"Topic3\", \"Topic3\", \"Topic3\", \"Topic3\", \"Topic3\", \"Topic3\", \"Topic3\", \"Topic3\", \"Topic3\", \"Topic4\", \"Topic4\", \"Topic4\", \"Topic4\", \"Topic4\", \"Topic4\", \"Topic4\", \"Topic4\", \"Topic4\", \"Topic4\", \"Topic4\", \"Topic4\", \"Topic4\", \"Topic4\", \"Topic4\", \"Topic4\", \"Topic4\", \"Topic4\", \"Topic4\", \"Topic4\", \"Topic4\", \"Topic4\", \"Topic4\", \"Topic4\", \"Topic4\", \"Topic4\", \"Topic4\", \"Topic4\", \"Topic4\", \"Topic4\", \"Topic4\", \"Topic4\", \"Topic4\", \"Topic4\", \"Topic4\", \"Topic4\", \"Topic4\", \"Topic4\", \"Topic4\", \"Topic4\", \"Topic4\", \"Topic4\", \"Topic4\", \"Topic4\", \"Topic4\", \"Topic4\", \"Topic4\", \"Topic4\", \"Topic4\", \"Topic4\", \"Topic4\", \"Topic4\", \"Topic4\", \"Topic4\", \"Topic4\", \"Topic4\", \"Topic4\", \"Topic4\", \"Topic4\", \"Topic4\", \"Topic4\", \"Topic4\", \"Topic4\", \"Topic4\", \"Topic4\", \"Topic4\", \"Topic5\", \"Topic5\", \"Topic5\", \"Topic5\", \"Topic5\", \"Topic5\", \"Topic5\", \"Topic5\", \"Topic5\", \"Topic5\", \"Topic5\", \"Topic5\", \"Topic5\", \"Topic5\", \"Topic5\", \"Topic5\", \"Topic5\", \"Topic5\", \"Topic5\", \"Topic5\", \"Topic5\", \"Topic5\", \"Topic5\", \"Topic5\", \"Topic5\", \"Topic5\", \"Topic5\", \"Topic5\", \"Topic5\", \"Topic5\", \"Topic5\", \"Topic5\", \"Topic5\", \"Topic5\", \"Topic5\", \"Topic5\", \"Topic5\", \"Topic5\", \"Topic5\", \"Topic5\", \"Topic5\", \"Topic5\", \"Topic5\", \"Topic5\", \"Topic5\", \"Topic5\", \"Topic5\", \"Topic5\", \"Topic5\", \"Topic5\", \"Topic5\", \"Topic5\", \"Topic5\", \"Topic5\", \"Topic5\", \"Topic5\", \"Topic5\", \"Topic5\", \"Topic5\", \"Topic5\", \"Topic5\", \"Topic5\", \"Topic5\", \"Topic5\", \"Topic6\", \"Topic6\", \"Topic6\", \"Topic6\", \"Topic6\", \"Topic6\", \"Topic6\", \"Topic6\", \"Topic6\", \"Topic6\", \"Topic6\", \"Topic6\", \"Topic6\", \"Topic6\", \"Topic6\", \"Topic6\", \"Topic6\", \"Topic6\", \"Topic6\", \"Topic6\", \"Topic6\", \"Topic6\", \"Topic6\", \"Topic6\", \"Topic6\", \"Topic6\", \"Topic6\", \"Topic6\", \"Topic6\", \"Topic6\", \"Topic6\", \"Topic6\", \"Topic6\", \"Topic6\", \"Topic6\", \"Topic6\", \"Topic6\", \"Topic6\", \"Topic6\", \"Topic6\", \"Topic6\", \"Topic6\", \"Topic6\", \"Topic6\", \"Topic6\", \"Topic6\", \"Topic6\", \"Topic6\", \"Topic6\", \"Topic6\", \"Topic6\", \"Topic6\", \"Topic6\", \"Topic6\", \"Topic6\", \"Topic6\", \"Topic6\", \"Topic7\", \"Topic7\", \"Topic7\", \"Topic7\", \"Topic7\", \"Topic7\", \"Topic7\", \"Topic7\", \"Topic7\", \"Topic7\", \"Topic7\", \"Topic7\", \"Topic7\", \"Topic7\", \"Topic7\", \"Topic7\", \"Topic7\", \"Topic7\", \"Topic7\", \"Topic7\", \"Topic7\", \"Topic7\", \"Topic7\", \"Topic7\", \"Topic7\", \"Topic7\", \"Topic7\", \"Topic7\", \"Topic7\", \"Topic7\", \"Topic7\", \"Topic7\", \"Topic7\", \"Topic7\", \"Topic7\", \"Topic7\", \"Topic7\", \"Topic7\", \"Topic7\", \"Topic7\", \"Topic7\", \"Topic7\", \"Topic7\", \"Topic7\", \"Topic7\", \"Topic7\", \"Topic7\", \"Topic7\", \"Topic7\", \"Topic7\", \"Topic7\", \"Topic7\", \"Topic7\", \"Topic7\", \"Topic7\", \"Topic7\", \"Topic7\", \"Topic7\", \"Topic7\", \"Topic7\", \"Topic7\", \"Topic7\", \"Topic8\", \"Topic8\", \"Topic8\", \"Topic8\", \"Topic8\", \"Topic8\", \"Topic8\", \"Topic8\", \"Topic8\", \"Topic8\", \"Topic8\", \"Topic8\", \"Topic8\", \"Topic8\", \"Topic8\", \"Topic8\", \"Topic8\", \"Topic8\", \"Topic8\", \"Topic8\", \"Topic8\", \"Topic8\", \"Topic8\", \"Topic8\", \"Topic8\", \"Topic8\", \"Topic8\", \"Topic8\", \"Topic8\", \"Topic8\", \"Topic8\", \"Topic8\", \"Topic8\", \"Topic8\", \"Topic8\", \"Topic8\", \"Topic8\", \"Topic8\", \"Topic8\", \"Topic8\", \"Topic8\", \"Topic8\", \"Topic8\", \"Topic8\", \"Topic8\", \"Topic8\", \"Topic8\", \"Topic8\", \"Topic8\", \"Topic8\", \"Topic8\", \"Topic8\", \"Topic8\", \"Topic8\", \"Topic8\", \"Topic8\", \"Topic9\", \"Topic9\", \"Topic9\", \"Topic9\", \"Topic9\", \"Topic9\", \"Topic9\", \"Topic9\", \"Topic9\", \"Topic9\", \"Topic9\", \"Topic9\", \"Topic9\", \"Topic9\", \"Topic9\", \"Topic9\", \"Topic9\", \"Topic9\", \"Topic9\", \"Topic9\", \"Topic9\", \"Topic9\", \"Topic9\", \"Topic9\", \"Topic9\", \"Topic9\", \"Topic9\", \"Topic9\", \"Topic9\", \"Topic9\", \"Topic9\", \"Topic9\", \"Topic9\", \"Topic9\", \"Topic9\", \"Topic9\", \"Topic9\", \"Topic9\", \"Topic9\", \"Topic9\", \"Topic9\", \"Topic9\", \"Topic9\", \"Topic9\", \"Topic9\", \"Topic9\", \"Topic9\", \"Topic9\", \"Topic9\", \"Topic9\", \"Topic9\", \"Topic9\", \"Topic9\", \"Topic9\", \"Topic9\", \"Topic9\", \"Topic9\", \"Topic9\", \"Topic9\", \"Topic10\", \"Topic10\", \"Topic10\", \"Topic10\", \"Topic10\", \"Topic10\", \"Topic10\", \"Topic10\", \"Topic10\", \"Topic10\", \"Topic10\", \"Topic10\", \"Topic10\", \"Topic10\", \"Topic10\", \"Topic10\", \"Topic10\", \"Topic10\", \"Topic10\", \"Topic10\", \"Topic10\", \"Topic10\", \"Topic10\", \"Topic10\", \"Topic10\", \"Topic10\", \"Topic10\", \"Topic10\", \"Topic10\", \"Topic10\", \"Topic10\", \"Topic10\", \"Topic10\", \"Topic10\", \"Topic10\", \"Topic10\", \"Topic10\", \"Topic10\", \"Topic10\", \"Topic10\", \"Topic10\", \"Topic10\", \"Topic10\", \"Topic10\", \"Topic10\", \"Topic10\", \"Topic10\", \"Topic10\", \"Topic10\", \"Topic10\", \"Topic10\"], \"logprob\": [30.0, 29.0, 28.0, 27.0, 26.0, 25.0, 24.0, 23.0, 22.0, 21.0, 20.0, 19.0, 18.0, 17.0, 16.0, 15.0, 14.0, 13.0, 12.0, 11.0, 10.0, 9.0, 8.0, 7.0, 6.0, 5.0, 4.0, 3.0, 2.0, 1.0, -4.0972, -4.9347, -5.0681, -5.4192, -5.4378, -5.4442, -5.5255, -5.6563, -5.7089, -5.785, -5.8585, -5.9014, -5.9087, -5.9881, -6.0651, -6.0723, -6.0939, -6.1157, -6.1178, -6.1278, -6.1508, -6.154, -6.1791, -6.195, -6.2064, -6.2443, -6.2587, -6.2732, -6.3407, -6.3417, -3.458, -3.7817, -5.447, -5.4402, -4.1359, -5.5203, -4.7762, -5.3873, -5.1378, -5.5181, -5.8158, -5.2743, -4.6133, -4.8447, -4.4056, -5.316, -4.7105, -5.3649, -4.8105, -5.1328, -5.0632, -5.0777, -5.2713, -5.2035, -4.9715, -5.0751, -5.2495, -5.1025, -5.1806, -5.229, -5.201, -5.237, -5.3774, -3.9767, -4.6395, -4.8747, -5.2288, -5.2356, -5.2429, -5.2764, -5.4299, -5.6375, -5.6735, -5.7024, -5.8367, -5.8513, -5.9108, -5.9275, -5.971, -5.9748, -5.9909, -6.0024, -6.0099, -6.0317, -6.0323, -6.1507, -6.1613, -6.2212, -6.2259, -6.2713, -6.2885, -6.29, -6.2922, -4.5266, -4.3912, -5.0486, -4.3345, -5.4781, -4.3105, -4.7732, -5.0519, -5.1837, -5.6089, -5.1816, -5.5259, -4.589, -4.7993, -5.1161, -5.273, -4.8998, -5.3212, -5.3319, -4.5734, -4.763, -5.182, -5.2117, -5.067, -4.9444, -5.1844, -5.0192, -5.1681, -5.1332, -5.0992, -5.2316, -4.2194, -4.4576, -4.5143, -4.9162, -5.0621, -5.3003, -5.3358, -5.3544, -5.3663, -5.3848, -5.4533, -5.5472, -5.5504, -5.6325, -5.7508, -5.8548, -5.9683, -6.05, -6.0535, -6.0594, -6.0769, -6.101, -6.1828, -6.3427, -6.3668, -6.3721, -6.3749, -6.3757, -6.5006, -6.5222, -4.5711, -5.3736, -5.7734, -3.7664, -5.2615, -5.532, -3.0284, -4.5707, -4.8333, -4.697, -5.5963, -4.5741, -4.2295, -4.9074, -4.0721, -4.3423, -4.5467, -4.7605, -4.7518, -4.837, -5.1741, -5.0495, -4.9505, -4.8551, -5.2729, -5.2477, -5.2278, -5.289, -4.3511, -4.6219, -5.2493, -5.6299, -5.6654, -5.6702, -5.6731, -5.771, -5.8351, -5.8372, -5.8604, -5.8777, -5.8911, -5.9231, -6.106, -6.1108, -6.1389, -6.2438, -6.2668, -6.3108, -6.3409, -6.4291, -6.4425, -6.4865, -6.5209, -6.5248, -6.5428, -6.5632, -6.5847, -6.5872, -4.707, -5.8603, -4.5572, -3.6006, -4.6633, -3.9543, -4.4188, -4.9809, -5.5271, -4.4553, -5.7015, -4.7692, -4.5658, -3.4, -3.579, -5.1211, -4.3333, -4.223, -3.7599, -4.9071, -4.5323, -5.1712, -4.3242, -5.3216, -4.7847, -4.5644, -4.791, -4.4956, -4.6489, -5.2369, -5.0372, -4.6249, -4.6743, -4.7965, -4.8931, -5.0152, -4.3361, -4.6611, -5.0811, -5.0871, -5.1967, -5.2293, -5.2824, -5.5966, -5.6767, -5.6884, -5.7885, -5.8461, -5.8682, -5.9335, -6.008, -6.0641, -6.0961, -6.1208, -6.1297, -6.1346, -6.2004, -6.3105, -6.3632, -6.3918, -6.398, -6.4933, -6.5044, -6.5258, -6.5263, -6.5447, -5.1968, -5.6503, -3.667, -5.6391, -4.8264, -3.8626, -5.9613, -5.5128, -5.4846, -3.8947, -4.4901, -5.417, -5.1828, -5.1168, -4.6836, -5.349, -4.4023, -4.6199, -4.9306, -4.6206, -4.8395, -5.3693, -5.0042, -5.1181, -5.18, -5.2373, -5.0263, -5.0148, -5.0113, -5.115, -5.2197, -5.0917, -5.2261, -5.222, -4.925, -4.9756, -5.001, -5.1869, -5.352, -5.4508, -5.5174, -5.5274, -5.5706, -5.6584, -5.6837, -5.7059, -5.7083, -5.7671, -5.8386, -5.8427, -5.9253, -5.9862, -6.0116, -6.0396, -6.0445, -6.0602, -6.0973, -6.1123, -6.1334, -6.1345, -6.1354, -6.2188, -6.247, -6.257, -4.1998, -4.7559, -4.7539, -4.6951, -4.1441, -3.7131, -4.2695, -4.7157, -5.2342, -5.2719, -5.073, -4.2957, -4.2451, -4.598, -5.3893, -5.0689, -4.8609, -5.3307, -4.9495, -4.8821, -5.2178, -5.0399, -5.2393, -5.286, -5.2027, -5.1396, -5.2728, -3.414, -4.7369, -4.7706, -4.9434, -5.1602, -5.2709, -5.3509, -5.6059, -5.6189, -5.7284, -5.7389, -5.7562, -5.7916, -5.9582, -5.9795, -5.9923, -6.0685, -6.1071, -6.1122, -6.1701, -6.1849, -6.1881, -6.1979, -6.2116, -6.239, -6.2906, -6.4102, -6.4177, -6.424, -6.4754, -5.5561, -4.7413, -5.0167, -5.4484, -5.2683, -3.5605, -3.645, -5.5262, -4.5872, -4.4521, -3.9327, -4.4359, -5.5236, -4.6141, -5.2581, -3.7273, -4.3438, -4.1566, -4.4656, -4.2013, -4.5546, -4.17, -4.8446, -4.3632, -4.6227, -5.0633, -4.7289, -4.7844, -4.9404, -4.855, -5.0414, -5.0236, -4.0196, -4.8087, -4.9238, -5.1677, -5.208, -5.2231, -5.2635, -5.3066, -5.339, -5.5387, -5.7132, -5.7525, -5.847, -5.8489, -5.8505, -5.8658, -5.9256, -5.9292, -5.9498, -5.962, -5.9682, -6.1548, -6.1587, -6.1693, -6.18, -6.1804, -6.221, -6.2356, -6.255, -6.2586, -4.2585, -4.97, -5.3385, -4.2511, -4.5159, -5.3264, -5.3246, -4.8487, -4.7953, -4.4556, -5.4638, -4.683, -5.288, -4.9133, -4.7867, -4.866, -5.2249, -5.0174, -4.7532, -5.2505, -4.9137, -5.3017, -5.1248, -5.1969, -5.217, -5.3074, -3.7758, -4.5923, -4.9803, -5.0964, -5.1016, -5.18, -5.2596, -5.4926, -5.5344, -5.5357, -5.5413, -5.6005, -5.6122, -5.6227, -5.649, -5.6768, -5.6924, -5.7196, -5.8132, -5.8329, -5.8376, -5.8532, -5.8807, -5.9075, -5.94, -5.9679, -5.9891, -6.0431, -6.065, -6.0772, -4.1559, -4.4985, -4.0301, -4.0676, -3.1209, -4.7253, -4.7153, -4.0984, -5.3565, -4.6434, -5.5003, -5.3995, -5.2443, -4.8167, -4.8465, -4.593, -5.2367, -5.166, -4.7275, -4.9618, -5.1331, -5.1993, -5.1134, -5.001, -5.1932, -5.1578, -5.082, -5.1558, -5.1828, -4.4491, -4.5181, -4.586, -4.7157, -4.8461, -4.9632, -4.9914, -5.0414, -5.0876, -5.1366, -5.2238, -5.2259, -5.2737, -5.4645, -5.4678, -5.4754, -5.5135, -5.6042, -5.6429, -5.6704, -5.6751, -5.7172, -5.747, -5.7514, -5.7657, -5.7948, -5.8066, -5.8127, -5.8285, -5.8364, -4.5125, -4.3481, -5.0691, -4.1376, -5.4378, -5.545, -4.6865, -4.8821, -4.8967, -4.97, -4.8108, -5.1062, -5.1401, -5.1303, -4.5497, -4.9929, -4.8226, -4.9179, -5.1388, -5.1289, -5.2253], \"loglift\": [30.0, 29.0, 28.0, 27.0, 26.0, 25.0, 24.0, 23.0, 22.0, 21.0, 20.0, 19.0, 18.0, 17.0, 16.0, 15.0, 14.0, 13.0, 12.0, 11.0, 10.0, 9.0, 8.0, 7.0, 6.0, 5.0, 4.0, 3.0, 2.0, 1.0, 2.1061, 2.1058, 2.1057, 2.1055, 2.1055, 2.1055, 2.1054, 2.1053, 2.1052, 2.1051, 2.105, 2.105, 2.105, 2.1049, 2.1047, 2.1047, 2.1047, 2.1047, 2.1047, 2.1046, 2.1046, 2.1046, 2.1046, 2.1045, 2.1045, 2.1044, 2.1044, 2.1044, 2.1042, 2.1042, 2.0397, 2.0077, 2.0353, 2.0195, 1.8653, 2.009, 1.8958, 1.9779, 1.8901, 1.9462, 2.0202, 1.8609, 1.6409, 1.7077, 1.4567, 1.7993, 1.4802, 1.789, 1.4129, 1.5524, 1.2993, 1.2912, 1.3966, 1.2719, 0.7667, 0.81, 0.7646, -0.2768, 0.1618, 0.5007, 0.2273, 0.4348, 1.2863, 2.1298, 2.1297, 2.1296, 2.1293, 2.1293, 2.1293, 2.1293, 2.1292, 2.129, 2.129, 2.1289, 2.1288, 2.1287, 2.1287, 2.1286, 2.1286, 2.1286, 2.1286, 2.1285, 2.1285, 2.1285, 2.1285, 2.1283, 2.1283, 2.1282, 2.1282, 2.1281, 2.128, 2.128, 2.128, 2.1068, 2.0076, 2.0282, 1.9611, 2.0279, 1.8117, 1.7622, 1.8052, 1.8124, 1.9565, 1.7804, 1.882, 1.3451, 1.4581, 1.6234, 1.6486, 1.313, 1.6081, 1.6181, 0.6974, 0.8409, 1.3978, 1.4265, 1.19, 0.8919, 1.2248, 0.7105, 1.1377, 0.9397, 0.7255, 1.2032, 2.1696, 2.1695, 2.1695, 2.1693, 2.1692, 2.1691, 2.169, 2.169, 2.169, 2.169, 2.1689, 2.1688, 2.1688, 2.1688, 2.1686, 2.1685, 2.1683, 2.1682, 2.1682, 2.1682, 2.1682, 2.1681, 2.168, 2.1676, 2.1676, 2.1676, 2.1676, 2.1676, 2.1673, 2.1672, 2.1172, 2.1404, 2.1325, 1.9876, 2.0822, 2.0845, 1.7973, 1.9208, 1.8934, 1.8615, 2.0425, 1.7463, 1.5826, 1.7388, 1.2703, 1.3959, 1.3526, 1.2834, 1.1333, 1.177, 1.6208, 1.4128, 1.2519, 1.0791, 1.3596, 1.034, 0.1084, 0.5896, 2.2225, 2.2224, 2.222, 2.2217, 2.2216, 2.2216, 2.2216, 2.2215, 2.2214, 2.2214, 2.2214, 2.2214, 2.2213, 2.2213, 2.221, 2.221, 2.2209, 2.2207, 2.2206, 2.2206, 2.2205, 2.2203, 2.2202, 2.2201, 2.22, 2.22, 2.22, 2.2199, 2.2198, 2.2198, 2.1818, 2.1885, 2.1185, 2.0491, 2.1164, 1.9621, 2.0005, 2.0557, 2.1174, 1.9504, 2.1331, 1.9414, 1.873, 1.6071, 1.6362, 1.9772, 1.7749, 1.7422, 1.5109, 1.8927, 1.7275, 1.9575, 1.5396, 1.9537, 1.6449, 1.4755, 1.5834, 1.3664, 1.2989, 1.8041, 1.5745, 1.047, 0.6565, 0.9515, 0.7677, 1.2349, 2.2258, 2.2257, 2.2255, 2.2254, 2.2254, 2.2253, 2.2253, 2.225, 2.2249, 2.2249, 2.2247, 2.2247, 2.2246, 2.2245, 2.2244, 2.2243, 2.2243, 2.2242, 2.2242, 2.2242, 2.224, 2.2238, 2.2237, 2.2236, 2.2236, 2.2233, 2.2233, 2.2232, 2.2232, 2.2232, 2.2164, 2.221, 2.1866, 2.2127, 2.1909, 2.0985, 2.1733, 2.1114, 2.101, 1.7371, 1.8453, 2.0068, 1.8894, 1.8601, 1.6895, 1.9212, 1.4224, 1.4867, 1.6535, 1.2416, 1.3901, 1.816, 1.253, 1.4125, 1.3778, 1.4709, 0.9877, 0.7818, 0.727, 0.4679, 0.971, -0.266, 0.8469, 0.3819, 2.2586, 2.2586, 2.2586, 2.2585, 2.2583, 2.2582, 2.2582, 2.2582, 2.2581, 2.258, 2.258, 2.258, 2.258, 2.2579, 2.2578, 2.2578, 2.2576, 2.2575, 2.2575, 2.2574, 2.2574, 2.2574, 2.2573, 2.2573, 2.2573, 2.2573, 2.2573, 2.2571, 2.257, 2.257, 2.2168, 2.1814, 2.1544, 2.0283, 1.8196, 1.6231, 1.7456, 1.8374, 1.937, 1.9468, 1.7679, 1.1325, 1.0857, 1.3014, 1.8481, 1.3317, 1.0398, 1.6402, 0.9291, 0.7497, 1.2989, 0.7293, 1.1296, 1.2437, 0.6825, 0.2028, 0.3102, 2.2801, 2.2797, 2.2797, 2.2796, 2.2794, 2.2793, 2.2793, 2.279, 2.279, 2.2788, 2.2788, 2.2788, 2.2787, 2.2785, 2.2784, 2.2784, 2.2783, 2.2782, 2.2782, 2.2781, 2.278, 2.278, 2.278, 2.278, 2.2779, 2.2778, 2.2775, 2.2775, 2.2775, 2.2773, 2.277, 2.26, 2.2606, 2.2341, 2.2227, 2.0953, 1.9997, 2.1984, 2.0338, 1.9491, 1.728, 1.8141, 2.1066, 1.8148, 1.9878, 1.2798, 1.4683, 1.1796, 1.3706, 1.1411, 1.3932, 1.0452, 1.5298, 0.9676, 1.1465, 1.6449, 1.1717, 1.2453, 1.454, 1.0236, 1.4954, 0.6482, 2.4319, 2.4315, 2.4315, 2.4313, 2.4312, 2.4312, 2.4312, 2.4311, 2.4311, 2.4309, 2.4306, 2.4306, 2.4304, 2.4304, 2.4304, 2.4304, 2.4303, 2.4303, 2.4302, 2.4302, 2.4302, 2.4298, 2.4298, 2.4297, 2.4297, 2.4297, 2.4296, 2.4296, 2.4295, 2.4295, 2.4228, 2.4218, 2.4214, 2.3855, 2.2979, 2.3375, 2.2411, 2.0332, 1.9799, 1.8015, 2.1967, 1.7519, 2.0202, 1.7547, 1.5393, 1.4349, 1.6155, 1.2442, 0.8507, 1.5615, 0.7581, 1.6486, 0.7373, 1.016, 1.1922, 0.7862, 2.6028, 2.6025, 2.6022, 2.6021, 2.6021, 2.602, 2.6019, 2.6016, 2.6016, 2.6016, 2.6016, 2.6015, 2.6014, 2.6014, 2.6014, 2.6013, 2.6013, 2.6013, 2.6011, 2.601, 2.601, 2.601, 2.6009, 2.6009, 2.6008, 2.6007, 2.6007, 2.6006, 2.6005, 2.6005, 2.5972, 2.5697, 2.5188, 2.5145, 2.3892, 2.4479, 2.4016, 2.2634, 2.3622, 2.0064, 2.4099, 2.3227, 2.0274, 1.4859, 1.4216, 0.6778, 1.8289, 1.6804, 0.7008, 1.1689, 1.471, 1.6416, 1.2491, 0.7682, 1.4706, 1.2514, 0.6477, 1.0936, 0.4211, 2.8052, 2.8052, 2.8052, 2.8051, 2.8049, 2.8048, 2.8048, 2.8047, 2.8047, 2.8046, 2.8045, 2.8045, 2.8044, 2.8041, 2.8041, 2.8041, 2.804, 2.8039, 2.8038, 2.8037, 2.8037, 2.8036, 2.8036, 2.8035, 2.8035, 2.8034, 2.8034, 2.8034, 2.8034, 2.8033, 2.55, 2.4, 2.5632, 2.0858, 2.6446, 2.6514, 1.9176, 2.0682, 2.0492, 2.0337, 1.6713, 2.0462, 2.0258, 1.9787, 0.8786, 1.4757, 0.7604, 0.686, 1.5532, 1.1737, 0.5044]}, \"token.table\": {\"Topic\": [8, 4, 4, 7, 2, 3, 4, 7, 8, 9, 2, 5, 8, 1, 2, 3, 4, 6, 7, 8, 9, 10, 6, 3, 1, 2, 8, 9, 10, 10, 5, 5, 3, 5, 4, 2, 3, 5, 7, 8, 9, 10, 8, 1, 9, 1, 3, 5, 6, 1, 2, 3, 5, 6, 7, 8, 9, 5, 3, 6, 10, 3, 5, 10, 10, 1, 3, 5, 3, 3, 6, 3, 8, 8, 1, 1, 2, 5, 8, 2, 9, 6, 8, 4, 7, 8, 6, 7, 1, 4, 5, 7, 9, 2, 6, 7, 4, 6, 1, 9, 1, 4, 7, 10, 6, 6, 6, 6, 8, 1, 3, 4, 7, 10, 5, 7, 1, 2, 3, 4, 5, 6, 7, 9, 1, 2, 7, 8, 9, 1, 6, 8, 1, 1, 6, 10, 1, 4, 10, 2, 9, 1, 5, 7, 9, 9, 6, 9, 2, 7, 1, 3, 4, 5, 7, 10, 2, 3, 7, 9, 10, 4, 7, 5, 3, 6, 2, 3, 4, 2, 4, 7, 8, 9, 7, 2, 1, 3, 5, 6, 8, 9, 1, 1, 8, 9, 10, 1, 3, 5, 7, 8, 3, 5, 7, 3, 1, 2, 5, 6, 8, 9, 10, 4, 5, 2, 4, 5, 7, 6, 2, 2, 2, 5, 7, 9, 9, 10, 1, 3, 6, 8, 9, 10, 10, 3, 1, 5, 7, 8, 1, 2, 3, 4, 6, 7, 8, 9, 7, 1, 2, 3, 4, 6, 7, 8, 9, 3, 1, 2, 7, 7, 7, 7, 9, 3, 7, 9, 3, 1, 1, 4, 5, 7, 9, 2, 4, 3, 1, 2, 3, 6, 7, 1, 2, 5, 6, 8, 9, 10, 1, 2, 3, 4, 5, 6, 7, 8, 9, 1, 3, 6, 3, 1, 2, 3, 5, 6, 8, 9, 5, 8, 1, 1, 5, 9, 2, 5, 4, 6, 8, 6, 3, 7, 1, 2, 4, 5, 7, 8, 4, 8, 9, 1, 3, 5, 8, 9, 10, 5, 10, 2, 2, 3, 8, 9, 1, 4, 7, 1, 3, 4, 7, 8, 9, 7, 9, 1, 2, 8, 9, 10, 1, 1, 1, 1, 3, 1, 2, 3, 8, 10, 7, 1, 3, 4, 6, 7, 10, 2, 4, 1, 3, 1, 2, 4, 7, 8, 9, 10, 1, 4, 5, 6, 7, 3, 4, 6, 8, 9, 4, 5, 2, 6, 10, 10, 5, 1, 5, 8, 10, 8, 2, 8, 9, 1, 2, 3, 5, 7, 8, 9, 4, 2, 4, 7, 8, 4, 1, 2, 8, 9, 1, 2, 5, 6, 8, 9, 3, 8, 1, 8, 1, 1, 2, 6, 8, 9, 4, 7, 1, 2, 5, 8, 2, 3, 8, 2, 4, 7, 8, 9, 10, 9, 1, 6, 8, 10, 9, 4, 7, 1, 3, 5, 7, 9, 1, 3, 5, 6, 8, 6, 1, 2, 3, 4, 5, 6, 7, 8, 9, 10, 1, 2, 3, 4, 7, 9, 10, 8, 8, 8, 9, 5, 1, 5, 2, 9, 9, 4, 5, 9, 1, 4, 5, 8, 9, 10, 9, 3, 8, 6, 9, 10, 2, 6, 6, 2, 9, 2, 9, 1, 6, 10, 1, 2, 5, 8, 9, 2, 3, 4, 6, 7, 8, 10, 1, 6, 8, 8, 1, 2, 3, 4, 5, 8, 9, 10, 2, 3, 6, 7, 9, 10, 4, 10, 4, 1, 2, 3, 4, 6, 7, 8, 9, 10, 2, 2, 4, 8, 1, 3, 4, 6, 3, 4, 6, 7, 6, 2, 7, 9, 10, 4, 1, 2, 3, 4, 5, 8, 9, 3, 4, 9, 3, 6, 7, 1, 8, 5, 4, 7, 7, 7, 7, 7, 10, 1, 3, 6, 7, 8, 9, 3, 7, 1, 2, 4, 5, 8, 9, 4, 1, 3, 3, 7, 2, 7, 1, 2, 4, 5, 8, 9, 10, 10, 10, 10, 1, 2, 4, 6, 7, 8, 9, 1, 4, 6, 7, 8, 10, 9, 7, 4, 7, 3, 7, 5, 1, 2, 3, 1, 2, 6, 7, 9, 5, 10, 6, 1, 6, 10, 9, 8, 9, 1, 7, 1, 5, 7, 5, 1, 10, 1, 2, 5, 6, 7, 8, 9, 10, 1, 3, 10, 1, 1, 2, 6, 8, 9, 10, 4, 6, 1, 9, 4, 4, 4, 9, 1, 2, 3, 5, 6, 7, 8, 8, 1, 1, 1, 3, 4, 10, 3, 2, 1, 3, 5, 9, 10, 1, 8, 1, 6, 4, 8, 8, 8, 1, 1, 2, 4, 7, 10, 5, 6, 8, 9, 10, 2, 3, 4, 8, 3, 9, 5, 10, 5, 3, 4, 5, 6, 7, 8, 9, 5, 1, 2, 3, 4, 5, 6, 7, 8, 9, 10, 2, 5, 7, 9, 10, 9, 7, 9, 1, 3, 3, 5, 1, 2, 3, 4, 5, 6, 7, 8, 9, 10, 1, 5, 6, 8, 2, 3, 4, 6, 7, 1, 4, 5, 6, 7, 8, 9, 10, 10, 6, 10, 2, 5, 2, 4, 1, 4, 7, 8, 10, 1, 4, 7, 1, 10, 2, 4, 7, 8, 6, 2, 2, 1, 3, 6, 7, 2, 7, 2, 1, 5, 7, 10, 8, 7, 3, 6, 7, 2, 2, 1, 5, 2, 7, 8, 1, 2, 3, 4, 5, 6, 7, 9, 2, 4, 7, 6, 8, 1, 2, 5, 6, 8, 9, 10, 6, 7, 4, 4, 3, 5, 3, 5, 7, 1, 2, 4, 5, 6, 7, 8, 9, 10, 1, 2, 4, 5, 6, 7, 8, 9, 10, 6, 7, 10, 6, 9, 10, 4, 7, 6, 1, 4, 7, 8, 10, 1, 5, 10, 3, 5, 6, 7, 9, 10, 6, 8, 2, 2, 4, 1, 2, 3, 7, 8, 9, 10, 7, 1, 2, 4, 5, 7, 8, 9, 10, 5, 1, 6, 7, 8, 9, 10, 2, 2, 3, 6, 9, 6, 2, 4, 8, 9, 10, 5, 8, 9, 1, 2, 4, 5, 6, 7, 8, 9, 10, 3, 6, 1, 4, 5, 8, 1, 2, 3, 5, 6, 7, 9, 10, 6, 2, 3, 4, 5, 8, 9, 10, 2, 3, 9, 3, 1, 5, 6, 8, 10, 2, 3, 7, 8, 9, 1, 2, 6, 8, 9, 1, 2, 3, 4, 5, 6, 7, 8, 9, 10, 4, 7, 5, 3, 1, 2, 3, 8, 10, 10, 5, 4, 4, 1, 4, 7, 8, 10, 1, 4, 5, 7, 8, 9, 10, 1, 2, 3, 4, 5, 8, 9, 10, 1, 4, 5, 8, 9, 10, 5, 10, 7, 10, 3, 2, 3, 9, 10, 1, 4, 4, 3, 6, 5, 7, 8, 8, 4, 7, 7, 3, 5, 6, 8, 10, 8, 5, 7, 2, 3, 1, 2, 3, 9, 10, 4, 8, 1, 5, 8, 9, 8, 8, 1, 4, 5, 5, 9, 5, 2, 5, 6, 7, 3, 6, 9, 1, 2, 8, 1, 4, 5, 8, 9, 10, 1, 1, 4, 8, 10, 1, 6, 10, 2, 7, 4, 1, 4, 6, 9, 1, 3, 5, 6, 8, 9, 10, 4, 1, 2, 3, 4, 6, 7, 8, 10, 7, 7, 7, 1, 3, 5, 6, 8, 10, 1, 3, 6, 7, 10, 1, 9, 10, 1, 8, 1, 3, 1, 5, 7, 2, 5, 6, 6, 1, 10, 7, 6, 10, 9, 1, 5, 3, 1, 3, 4, 5, 6, 7, 8, 9, 10, 1, 10, 3, 6, 2, 9, 10, 1, 4, 5, 7, 8, 10, 1, 1, 3, 4, 7, 8, 1, 2, 4, 5, 7, 8, 9, 10, 1, 2, 5, 7, 8, 9, 10, 1, 4, 7, 10, 7, 9, 10, 9, 3, 1, 7, 10, 10, 10, 9, 9, 10, 8, 2, 5, 8, 9, 10, 9, 6, 1, 4, 7, 7, 4], \"Freq\": [0.9992346536642605, 0.9981482958996613, 0.7667536353743116, 0.23261065342816195, 0.25996817604456424, 0.06487861985056315, 0.18692301663239175, 0.09618368817006565, 0.1535763134224869, 0.23819073721360598, 0.8410097983540465, 0.12572286906311908, 0.032383163243530674, 0.15905559468926914, 0.03419385839137011, 0.048118959093738034, 0.28051341748214487, 0.07627860718074872, 0.19092860296357791, 0.0957737481640638, 0.09236983465904053, 0.022744331147200935, 0.998677597541528, 0.9966229050382807, 0.04478637160371081, 0.4809203236493709, 0.14928790534570271, 0.28684604669995734, 0.038032871123786165, 0.9987047272544656, 0.9993776716775487, 0.9991685492140217, 0.7796908794029356, 0.22030497719356737, 0.9966032572124002, 0.24556259279537837, 0.09989553094669133, 0.447692346048717, 0.002839839508517981, 0.07700976549569348, 0.038087259290711745, 0.08887027167832741, 0.9995614126384332, 0.998539938214299, 0.99838472886814, 0.26198810823775776, 0.46116035426646246, 0.22337933439219346, 0.05347008758770611, 0.054897517418747814, 0.08299595089047378, 0.17167655595152795, 0.2358319387337924, 0.14244119164568592, 0.14780100843509028, 0.09241623494457843, 0.07178906123990099, 0.9967934378568435, 0.8804989545674595, 0.11890323484263715, 0.9993459278116049, 0.9991032765495031, 0.997377921455621, 0.9983796531617616, 0.9991532348976301, 0.999165621917621, 0.9638984695739099, 0.03614619260902162, 0.9969376249514608, 0.9990985856054474, 0.9976433427699902, 0.9987767319230537, 0.9986939860542644, 0.9988331532725869, 0.9989400553714216, 0.13853906010312445, 0.5106374650269438, 0.2443746617804184, 0.10635061677061412, 0.9984352862002679, 0.9966320869636839, 0.04514895596854976, 0.9545241774350895, 0.02245671906232321, 0.10285177330544029, 0.8744646402868657, 0.9986249458022887, 0.9992189849074921, 0.03277801679164182, 0.7638703043617399, 0.05130472193474372, 0.15177646905695016, 0.9988261840917904, 0.06319194439310688, 0.9004852076017731, 0.03603915578669377, 0.9970618740488044, 0.9982889249778779, 0.08443529687615847, 0.9152501167715237, 0.03607053918652338, 0.7704813649588343, 0.1668033563397096, 0.026366282451062772, 0.9983155469059363, 0.9992882166304836, 0.9977326886324085, 0.009608338699575003, 0.9896588860562253, 0.03982019747272962, 0.18057996528330875, 0.7047248901569125, 0.05340228033164515, 0.021299175392390263, 0.9993351975668444, 0.998906162272571, 0.056781744042284185, 0.07050919864591333, 0.41203162984529296, 0.20944767857355376, 0.02454302489739756, 0.12417106664191817, 0.09817209958959024, 0.004159834728372468, 0.003902836488061601, 0.10610836701917478, 0.013537964067963678, 0.06890945674233764, 0.8073992984677437, 0.9075476022575714, 0.009185704476291209, 0.08358991073425, 0.9981386301748997, 0.6278169985427494, 0.2317738142616937, 0.14014230629776828, 0.8103392990202123, 0.13914917255902634, 0.0502807934456986, 0.9992995217089797, 0.9974446779712187, 0.012683017564798121, 0.9867387665412939, 0.9550258871502486, 0.04389692979053834, 0.9996765126158064, 0.9983099788209112, 0.9993343678743336, 0.9983167010770425, 0.9978114793486708, 0.011343661919599244, 0.045374647678396975, 0.7547586484361924, 0.03524637810732622, 0.013774446616656224, 0.13936498929793356, 0.5934105048910515, 0.012604301293352837, 0.013108473345086951, 0.2243565630216805, 0.15578916398584106, 0.3724141802956682, 0.6275063916443826, 0.9977762162134973, 0.9981633494180071, 0.9996097245154797, 0.10483806388884322, 0.6499200264993142, 0.24500199713153578, 0.23867390873771047, 0.490692818808704, 0.08688651947209491, 0.03782683831160817, 0.14583494262774827, 0.9985973818805236, 0.9992175961438123, 0.10724941186552504, 0.030353607131752374, 0.584812830738429, 0.10869482172894183, 0.10638216594747499, 0.062152624126921525, 0.9990195085999463, 0.33597982923626063, 0.10283793252288587, 0.10283793252288587, 0.4586188543567208, 0.17147923752454, 0.13139318199932284, 0.683411571627834, 0.004732381555060357, 0.009186387724528929, 0.44473795335447563, 0.20157457363496875, 0.3533175147542296, 0.9998446707092632, 0.0845896308936671, 0.06896479461394515, 0.04148663425995138, 0.22494376368220392, 0.05711147053967333, 0.3273133806872787, 0.19557984722548508, 0.9995130572473432, 0.9991739659557873, 0.04040944178288476, 0.1829058943856889, 0.7372950781438623, 0.0389915666326081, 0.9984497545556675, 0.9975745195046689, 0.9973480004951217, 0.7048278595772798, 0.10418741457165999, 0.15211362527462358, 0.038549343391514196, 0.14141117950786253, 0.8574171516995716, 0.273458005097698, 0.3547323505452942, 0.2065575067707466, 0.11392604754881384, 0.026973145214049383, 0.024133866770465237, 0.9971682322637843, 0.9964305179321232, 0.08481713889009597, 0.037778812955413923, 0.7815028954502292, 0.09555817394604699, 0.09781497137103613, 0.12180732283940349, 0.17245784260595678, 0.060288472920512835, 0.15420725046335254, 0.35537388969812495, 0.012918958482967036, 0.025222728466745167, 0.9987466006299159, 0.1246472330538509, 0.10651208234314719, 0.2630873976341525, 0.059258520632158626, 0.03856912334248255, 0.12107128784328962, 0.06564413707958952, 0.22094232908110867, 0.99908799482802, 0.9989265982801225, 0.9994261469177825, 0.9989322010498102, 0.9989125780513741, 0.9997274460992579, 0.9987944935992339, 0.9976215521256777, 0.7583495772972275, 0.1004545585562017, 0.14038936257239662, 0.9982401765438137, 0.9994298348806981, 0.023526556338726027, 0.07888315948866963, 0.06158422100431225, 0.7466221849848642, 0.08926252257928405, 0.9983712858391646, 0.9992253136791358, 0.998414945048115, 0.14304074589603796, 0.0021657214591325144, 0.40674311594374457, 0.12788069568211036, 0.32011425757844403, 0.12410016200906754, 0.14395618793051834, 0.037230048602720264, 0.005515562755958557, 0.4095305346299229, 0.10038324215844574, 0.17898001143085518, 0.05229616801346466, 0.032825275049387176, 0.025383520146886357, 0.2087769046619408, 0.04628159898267633, 0.30929156676969155, 0.26912647866578304, 0.04444664571904599, 0.01151942882167935, 0.4427290400842785, 0.23403037034364005, 0.3232670429223958, 0.9979140737437926, 0.11541289574855934, 0.3040562374080784, 0.06809146725054151, 0.25180995436049314, 0.0029977375519106325, 0.16723093057444313, 0.0903603747790205, 0.9944237099141019, 0.0038794162935530635, 0.9982060391673232, 0.33604252471756507, 0.6636188617968969, 0.9983327666544299, 0.9994014748953525, 0.9989659497558748, 0.9974154098081461, 0.32837855313845904, 0.6711807616124287, 0.9977960454113693, 0.9996913915953187, 0.9990147020060338, 0.043104843964789724, 0.018067898667875934, 0.6094044107836439, 0.008775836495825454, 0.1435107379905574, 0.17732351978329666, 0.5811161744776197, 0.41879823068063016, 0.998744331778149, 0.1998392674749811, 0.07036946636650337, 0.4334859298235492, 0.14224148361627728, 0.10843408874269025, 0.04557737679253955, 0.9985655739810477, 0.9992293500105076, 0.9993989318112748, 0.9769286273848594, 0.02250123517968966, 0.005495162943020308, 0.9942017878449051, 0.03442666935856992, 0.1343204476613056, 0.8311783163579319, 0.27581826414407545, 0.057880492261497635, 0.08239110888243796, 0.43764739556907906, 0.11546567588900802, 0.030712097934672212, 0.9803206846191044, 0.018563975091111955, 0.28056562495832565, 0.39073267769425535, 0.11402804757480574, 0.10295986237002776, 0.11196885032740518, 0.9976246030256506, 0.998830969151081, 0.9992033701882027, 0.9168611599906027, 0.08226044052252136, 0.2517509406218892, 0.15290394553108605, 0.07670938681525867, 0.040156591755638765, 0.4782753043716463, 0.9989184544914411, 0.11933752725052074, 0.44171084747025324, 0.03185933985421142, 0.38375204841343924, 0.019619593469542625, 0.003779921677618304, 0.08476688104312333, 0.9137371147736676, 0.9061407878365729, 0.09369421564923454, 0.04085766357754651, 0.031664689272598544, 0.4072147136562136, 0.4562439099492694, 0.04290054675642384, 0.01123585748382529, 0.009873935364573741, 0.14107767794046858, 0.2333807616985038, 0.0026939456089134705, 0.047073154850488005, 0.57565364064151, 0.9977026836290328, 0.04658844591753702, 0.08860379284930353, 0.15262717865009062, 0.7119743483471456, 0.9984173235985675, 0.99971738196765, 0.9990356873480568, 0.9981654433667931, 0.9973603423217866, 0.9977639043674045, 0.9985748750011825, 0.03543687926788941, 0.054883947158804326, 0.6361351985650392, 0.27355542166553654, 0.9992838572351691, 0.6922519852574417, 0.1870032376677765, 0.12070208976738302, 0.0697973887759626, 0.11897282177720898, 0.02802470912974256, 0.6937437429853253, 0.04758912871088359, 0.027495941032954965, 0.014276738613265078, 0.9963940119931549, 0.1673898956111977, 0.3969369872224902, 0.41186227136840964, 0.02380488357450441, 0.9992416443104496, 0.4461868777099812, 0.0735064279304264, 0.22194936993778552, 0.25827355805904684, 0.6712824469979936, 0.07746896863861441, 0.05706419564897936, 0.001037530829981443, 0.18295126968672779, 0.01037530829981443, 0.9986951382133795, 0.9986784487514148, 0.9984313688358082, 0.997959445774394, 0.9982254694247215, 0.034020037392740454, 0.6178639144122715, 0.02851679604979715, 0.27766354048486697, 0.04152445740584497, 0.8008017273579741, 0.19921645996277768, 0.01871235432984724, 0.7802238174923262, 0.16759760834558832, 0.032543224921473456, 0.9980999663364352, 0.9981803490225929, 0.9963098157420228, 0.7276612186264257, 0.034496531845993515, 0.15846844316753272, 0.05821289749011406, 0.0210213240936523, 0.9968565266728097, 0.9988825338924034, 0.3065299079309716, 0.09895847421393572, 0.15628198061834972, 0.43746886466526463, 0.9973831341072691, 0.8998567084230462, 0.09895331501559271, 0.011061974158717972, 0.46902770432964197, 0.2964609074536416, 0.13242763350008085, 0.09102424450602216, 0.040415932930096876, 0.009782200327029818, 0.37790184421262557, 0.03938622763251479, 0.5323576388499385, 0.9989304174426851, 0.534740860052319, 0.02986840839931872, 0.027941414309040093, 0.019029066641501443, 0.284954251099952, 0.024087426128482838, 0.015897701244798675, 0.04962009782467464, 0.0021678683515634553, 0.01180283880295659, 0.034874527202212284, 0.10462358160663686, 0.14158017013435437, 0.3065835301806423, 0.09447353264479896, 0.3068437878463305, 0.010930821958902359, 0.999670474454293, 0.9991732507701824, 0.9993137340078455, 0.9974131282805162, 0.9991937450854494, 0.03413310499342966, 0.9656365509431553, 0.9981609150582167, 0.9986050798132425, 0.9984093032627376, 0.02895017920619201, 0.05135210359193583, 0.9191681897965963, 0.16555700822368902, 0.5050096777610324, 0.17285332967740877, 0.09971639320083682, 0.0013897755149942415, 0.055417298660395374, 0.9971854175609137, 0.9972162842291827, 0.9977049288623323, 0.9984231988848156, 0.21486901812212056, 0.7841191656589234, 0.8445423107024794, 0.15515823256491545, 0.9985272941378095, 0.9978470387909735, 0.9975323647757388, 0.9991215590842698, 0.9990531826121329, 0.9175592518593242, 0.08114469574266132, 0.9971790264493379, 0.09473224346568296, 0.11429651113794358, 0.0020593965970800644, 0.4566711954025043, 0.33156285212989034, 0.4418076618135091, 0.04309717994278935, 0.048761380735270234, 0.0849630118872133, 0.09801530066988663, 0.24257555567798578, 0.04063448394605853, 0.26002122473835654, 0.6627453907579219, 0.07615397347218357, 0.9989516900839281, 0.10929422109250925, 0.14645425626396238, 0.00437176884370037, 0.08699819998963737, 0.2139980848991331, 0.19279500600718633, 0.1311530653110111, 0.11519610903150475, 0.07933055519832906, 0.20590686327032967, 0.2644351839944302, 0.2845322579780069, 0.06258299354534848, 0.10312972175782778, 0.9667873376905326, 0.03243216308546515, 0.9985624360742683, 0.0007901640101118397, 0.04172065973390514, 0.024653117115489398, 0.20970952828368225, 0.21650493877064408, 0.3219128177195635, 0.015803280202236793, 0.15961313004259162, 0.009323935319319708, 0.9978205223836637, 0.8848030531103376, 0.034110744588564806, 0.08097594150154949, 0.14575886344035469, 0.034031805120435236, 0.09503221052498896, 0.7242995504877537, 0.11264453736551001, 0.2616957892075529, 0.29539903478731344, 0.33000343666599813, 0.9989110115801023, 0.7228498702249554, 0.11539329531170604, 0.124774864036235, 0.03705719646188934, 0.9985971571592035, 0.024228031423788196, 0.45623246865718076, 0.3360241589006932, 0.010250320986987313, 0.10008040672749431, 0.010995798876950028, 0.06243377328437727, 0.734540867378805, 0.20912319341291416, 0.056021354641396306, 0.07591062107011763, 0.7939840636252845, 0.13007387502285023, 0.9977008090301809, 0.9987280183657279, 0.9957558919590936, 0.9600276016827575, 0.03969856950982659, 0.9986075363538288, 0.9974783363554443, 0.9983247252680586, 0.14693417683971266, 0.8512599592996396, 0.12698098531999805, 0.39946609393373667, 0.08213549338356879, 0.14989118228752168, 0.12990569131585214, 0.11162627884176413, 0.9707190906867149, 0.028045006347892042, 0.26581153005389285, 0.18358578437574313, 0.07808860124151328, 0.14738577055517407, 0.3048558306746495, 0.020168579128602766, 0.9977691389849345, 0.7359100786297275, 0.26412614208245166, 0.9986051448096539, 0.9974940440401623, 0.9028773374032865, 0.09603168499219845, 0.08136568374149665, 0.0372056758988895, 0.05424378916099777, 0.42803913113582215, 0.14186837165184032, 0.1773354645648004, 0.07962710075556724, 0.9978521817778148, 0.9991556761309913, 0.9986346376835888, 0.10122251372691236, 0.289979688740203, 0.06015895640531019, 0.049512848951561474, 0.40269323908386007, 0.03413513818503556, 0.062355772229099604, 0.17178735942461634, 0.3030138145406427, 0.03141481804292753, 0.013520301436196657, 0.19405609120188141, 0.2859146097830999, 0.9984921210153369, 0.9989166979599879, 0.9991870340480458, 0.9971006589541365, 0.5558992300093066, 0.4440595629629239, 0.9983610845157108, 0.9990833808678922, 0.9986370989866256, 0.9997974126875787, 0.9995605279792176, 0.37032941983489304, 0.12479119295528376, 0.04333027533169575, 0.4610341295292428, 0.998558408462265, 0.9993269982739483, 0.9988979416657928, 0.04136075076092722, 0.9585429464667439, 0.9966176180949969, 0.9964293327732878, 0.03243884358479386, 0.967372656903674, 0.9356096997096557, 0.06432542547250626, 0.9991886740503373, 0.47002800553137786, 0.5298424034837802, 0.9995769265185737, 0.8521728928943826, 0.147193499681757, 0.04421004498333373, 0.3803972215832168, 0.18192910597458198, 0.05852264947434105, 0.02385434081834554, 0.04102946620755432, 0.005406983918824988, 0.26430609626726853, 0.23555173074407457, 0.0980063451131596, 0.6662748955332395, 0.9995586802484258, 0.2998795863925767, 0.14308156050300522, 0.11537967942817526, 0.36899981392880293, 0.003227403620368539, 0.06938917783792359, 0.9991851342690459, 0.9989773598314053, 0.24398691046313983, 0.7553567365023233, 0.9997317910983515, 0.9992548736986925, 0.9990991999892396, 0.999444280247858, 0.008402008463794172, 0.10619587746861159, 0.011432241024506825, 0.6132088800133058, 0.22106923908835485, 0.03966849897660199, 0.9977341218809838, 0.9987474297339604, 0.9990382748382043, 0.9983743522731237, 0.17909709050942274, 0.038207379308676855, 0.7820572952244793, 0.9978369917299058, 0.9983180188282703, 0.9989324499649914, 0.09000859136895938, 0.09305399483633019, 0.4432753935839729, 0.1925371747704432, 0.18103231722704236, 0.4918613899182552, 0.5077779779108743, 0.7823387646813674, 0.21680013273038684, 0.9955748493045337, 0.998780723051064, 0.9972477491447383, 0.9985534082106318, 0.9982036417770273, 0.011316724410246283, 0.06820620387797084, 0.5609425018484239, 0.28689425667056795, 0.07218235029238171, 0.1681305832034177, 0.06252475203029592, 0.16965557715537613, 0.5505228166569958, 0.04879980646266999, 0.016031306517716067, 0.8333166514160371, 0.1494180024952177, 0.0010895062681942958, 0.999289948393713, 0.9988148432725577, 0.9991519537194599, 0.9981141448236579, 0.9968342329220349, 0.04819045183578561, 0.11994068012462196, 0.564006769633639, 0.07746168924715169, 0.14457135550735684, 0.04569168766652265, 0.9989093666223673, 0.9991505092387201, 0.12847186096189017, 0.09973473416778315, 0.08688754807159413, 0.06423593048094509, 0.08993030267332311, 0.36208779760574833, 0.047331738249117426, 0.04766982209375398, 0.03921772597784015, 0.03414646830829186, 0.12787136635937799, 0.03225584016272597, 0.04319978593222229, 0.02246388868475559, 0.7741401639054234, 0.9992763601871739, 0.9801091971419543, 0.019504660639640882, 0.08119250143908925, 0.9181769298543919, 0.19590969334143232, 0.8026511064748134, 0.07670752235599279, 0.02691492012490975, 0.04114137790521919, 0.6184664145845334, 0.05152284709625581, 0.006920979460691079, 0.06920979460691079, 0.08036026151580197, 0.02268543267670965, 0.006151981742836515, 0.99860320860154, 0.8824374528204588, 0.11662168980006063, 0.9993094507368205, 0.4947641833357961, 0.02976875132028019, 0.006782753465380297, 0.13942326567726165, 0.3289635430709444, 0.4342179859680691, 0.12776768171184333, 0.04194878772995358, 0.010567251870904336, 0.022415382756463743, 0.15978965707822013, 0.11399823230430133, 0.0893413112721912, 0.9978858015771398, 0.9994167765405734, 0.9988068606671423, 0.9994271210286112, 0.9989053824382227, 0.09859288369280338, 0.9010294093036754, 0.014031886505134874, 0.8458421185295302, 0.030308874851091325, 0.05781137240115568, 0.051076066878690936, 0.021706249018389582, 0.8990728343416964, 0.07901074642693807, 0.7283562585665937, 0.27139791263746554, 0.05806371336624536, 0.6578675096932849, 0.283553862361373, 0.997532597015045, 0.9992038927537575, 0.9996151466994446, 0.9991426773665186, 0.23859619511487234, 0.6546311698151728, 0.08693677454185578, 0.01947164350937464, 0.002489463874194801, 0.9970302816150178, 0.9986658922092716, 0.5746795563686917, 0.28240266859354957, 0.12204534908448506, 0.020538375897712693, 0.9982948578718219, 0.9985883355617119, 0.5773904757531596, 0.37508343119537313, 0.04672014536628619, 0.9992845614520948, 0.9972015456873474, 0.9995054754138963, 0.9961549413002251, 0.3957392880214956, 0.09747424576753232, 0.5064355923631727, 0.03475756220850555, 0.11316415602769249, 0.03980953345974182, 0.039405375759642924, 0.004445734701087919, 0.598355474996424, 0.10225189812502214, 0.0678984936166155, 0.2803589197359224, 0.0011892212926232128, 0.7179923554212648, 0.9993338595318445, 0.9981017532548401, 0.16009795679969904, 0.08538557695983949, 0.13179078182931747, 0.024594758580823328, 0.16381037318925726, 0.3972285536827315, 0.03712416389558238, 0.07817155386126197, 0.9213075990791589, 0.9981920882567146, 0.9987545714869759, 0.9995772214381996, 0.9990587532285496, 0.0564800175710333, 0.8801309856747122, 0.06318103660488471, 0.1527148126967807, 0.11169869302472409, 0.0011237293060837432, 0.0415779843250985, 0.3240835318745516, 0.03146442057034481, 0.04247696776996549, 0.1492312518479211, 0.14552294513784475, 0.03357447038657603, 0.12568142454443945, 0.019906986866376937, 0.02525513259167223, 0.39546566446489106, 0.06358351028962185, 0.11260817943816208, 0.037437020077067076, 0.18629374276445282, 0.924965677549952, 0.01626313279208707, 0.05793741057181018, 0.6119505815145333, 0.38212298755206153, 0.005538014312348718, 0.5276654922495313, 0.47209128790948196, 0.9978384649103187, 0.05870660498568145, 0.5402335194976339, 0.3677275533399594, 0.0274357500686853, 0.005826409288779942, 0.7858581890369131, 0.1971122873338846, 0.016940894260242863, 0.1808274072106248, 0.07467288896489707, 0.6442216333321198, 0.02015592118589767, 0.046838521612943156, 0.0332092796681933, 0.009048242650314984, 0.99058586928231, 0.9991957910334622, 0.9987991037456959, 0.9965493381127978, 0.009896998442211107, 0.7274293855025163, 0.023392905408862616, 0.01619508835998181, 0.10864205108154465, 0.04701074260050275, 0.06747953483325754, 0.9963193020789547, 0.9996766313469733, 0.2270010524451737, 0.017274226429974195, 0.47747733567979955, 0.05669489700094095, 0.0752979100793747, 0.06023832806349976, 0.08614966770846105, 0.9987624870346256, 0.8057176420787243, 0.19419575765571465, 0.9987129564700006, 0.9971422892973846, 0.856399817319649, 0.1434839663878901, 0.9991916090325261, 0.15192237114043677, 0.14846172487300086, 0.6557924676791064, 0.04360414296969256, 0.999449339476013, 0.042975550694979395, 0.1307476499957424, 0.0921424942866931, 0.32231663021234547, 0.4115455278417518, 0.9959924262219739, 0.9891273662437312, 0.00925499290052614, 0.06864480502208406, 0.3707900491744068, 0.12756042508040816, 0.21620411030577655, 0.029457810029162056, 0.042430056647508645, 0.05269975188703303, 0.037835719303510894, 0.05459153785220858, 0.9987115150292396, 0.9982464595454325, 0.9976134050030842, 0.10706924656440896, 0.8919070256261614, 0.9973848809800648, 0.0347076800708608, 0.008009464631737108, 0.3560874484193122, 0.09477866480888911, 0.38278566385843593, 0.06140589550998449, 0.05039288164134596, 0.01201419694760566, 0.9982329674371404, 0.16013710932060635, 0.04371142311338673, 0.47357494425214247, 0.06235610595795926, 0.12989129048385534, 0.07457873137829014, 0.05572688539100014, 0.9977375366424347, 0.18185154095910047, 0.8174196356154884, 0.9989290810321074, 0.17013518697805932, 0.09451954832114408, 0.18966922696442912, 0.07750602962333814, 0.46755669902859265, 0.18018964827037098, 0.32106998820650295, 0.2751651583396734, 0.032977607662952234, 0.1904786618612121, 0.04705359619342835, 0.40430128194226017, 0.00029970443435304683, 0.2895144835850432, 0.25894463128103246, 0.033056339060457254, 0.1549187953587302, 0.07883674514021749, 0.0225622631682486, 0.17236519652952711, 0.14245708023673245, 0.07175324391297666, 0.10992544497088563, 0.08473966282958487, 0.12933948537147164, 0.054814237767180966, 0.9442194505701496, 0.998373985809423, 0.9990307353449821, 0.021015236322468732, 0.1717098577567567, 0.06919650984227509, 0.26858497153594185, 0.4689985667087534, 0.9986446592943101, 0.99721246317517, 0.9981787101068382, 0.9989941797156439, 0.11943006705654369, 0.003906590978485074, 0.7553672699113639, 0.10729173080196507, 0.013812589531072226, 0.05811943999804822, 0.5562212031063208, 0.07155956049759687, 0.290778823240235, 0.014257425124521205, 0.00799142299973163, 0.0009989278749664538, 0.04391540917144057, 0.037705149288610594, 0.05234361901242411, 0.6389913829440418, 0.06897824369857584, 0.08383850841820473, 0.025728219514581343, 0.0483513090877477, 0.016147318264962383, 0.5229529210811681, 0.02055113233722485, 0.18459320652900177, 0.09981978563794927, 0.15560143055327386, 0.9981020910699474, 0.9962181902027261, 0.8403728115445874, 0.15852256179075652, 0.9988814313335699, 0.05110861754721745, 0.9488770467099673, 0.9988540368219472, 0.999522871317181, 0.9983817978473102, 0.998735149259262, 0.9967605320824044, 0.26800694002274306, 0.731968703026939, 0.1409933195537232, 0.03143769963022207, 0.8259541084667434, 0.9987734914885708, 0.9974593991506815, 0.9976691078721688, 0.9959862606019168, 0.20295004332096633, 0.025830005513577534, 0.2601450555296023, 0.44187759432155854, 0.06872626467005451, 0.9980093449957166, 0.998873458762834, 0.9985812857978925, 0.9998299951634068, 0.9998340853868748, 0.06221943068639171, 0.18214496548088763, 0.365579452841286, 0.0680222791441899, 0.3214133284680442, 0.20844705265912153, 0.7897943603265208, 0.04473214115103631, 0.2825935266367056, 0.11005526791127983, 0.5623469173273137, 0.9998145262904964, 0.9986609180721265, 0.999199783227981, 0.9984372451857495, 0.9983206225145207, 0.9906105843506734, 0.008998114308717926, 0.9989783334090371, 0.6025329225880527, 0.01000746722637596, 0.1517799196000354, 0.23517547981983508, 0.11831907018182239, 0.056470465314051595, 0.8241998866074673, 0.19883543243488072, 0.1384483751768799, 0.6620483472553991, 0.5222240998058144, 0.0065906727972836095, 0.37358708435128674, 0.08984127655244499, 0.007631305344223127, 0.9984311142438811, 0.9970765171401591, 0.09656289429638941, 0.718906318546055, 0.05403978488146563, 0.13022702258320407, 0.4997744097392674, 0.013191256830767516, 0.4868320445468163, 0.9033293472635282, 0.09640966513485262, 0.9958730237019997, 0.8793659875079022, 0.007795797761594878, 0.06860302030203493, 0.04365646746493131, 0.09227217145358077, 0.6890270616343721, 0.08273738040337741, 0.009042672802450915, 0.04927333955621213, 0.04945788389911929, 0.02817376968382666, 0.9978961512388094, 0.015766987825398884, 0.12140580625557142, 0.014715855303705627, 0.04414756591111688, 0.5387054173677953, 0.08987183060477365, 0.16082327581906863, 0.015241421564552257, 0.9999303407308441, 0.9994937647893387, 0.9995902209576077, 0.2614191767238785, 0.3704279453963838, 0.28988257743281043, 0.018975600472621295, 0.025637247447052175, 0.03351010296228867, 0.010659216106649856, 0.12729563850441464, 0.5293735691427549, 0.33269053348255223, 0.9992200176695721, 0.44031817007614377, 0.3224103194411799, 0.2369754506204356, 0.08932855047034613, 0.91010029067435, 0.08316774223702797, 0.9163711782263357, 0.2506878372059146, 0.7142567612270606, 0.03431689650846627, 0.038518744567368805, 0.9612490273731769, 0.9988686396209518, 0.9990753747708045, 0.9316473673518657, 0.06748527496339948, 0.9969879979521971, 0.9991162546159461, 0.9987927169535864, 0.997705745466711, 0.05048269300107124, 0.9490746284201393, 0.9989053150925458, 0.08305869889317322, 0.0957169139645754, 0.4246571056145746, 0.10560072573265657, 0.0036414043356088467, 0.062077273911807965, 0.18363081863856043, 0.03797464521420655, 0.0036414043356088467, 0.5376499978321203, 0.46216176581326707, 0.9989919889968106, 0.9993402316214289, 0.9991206040660047, 0.9989168997667608, 0.9980791569395906, 0.18795602104292108, 0.3085288766471138, 0.044730952376347353, 0.195554548209416, 0.18752591573161007, 0.07569853479074168, 0.9987894346278892, 0.17800466748504593, 0.019711926265122536, 0.7615971511524616, 0.002687989945243982, 0.037930524782887304, 0.1227009421559993, 0.2755413078765181, 0.0032148718468820777, 0.15819848546532225, 0.001875341910681212, 0.2056178452068329, 0.1127884206281129, 0.12002188228359757, 0.20083391809261397, 0.24185143540351092, 0.10360721039271008, 0.08978278789163, 0.12244488500956645, 0.14158639308798504, 0.10011312558474478, 0.05440864165123235, 0.8405293764368215, 0.062401663749480404, 0.042629451190656274, 0.9966641118299636, 0.7859810099908171, 0.21314739253988263, 0.9974217555312328, 0.9994923967302894, 0.9992315834813413, 0.9993628336741737, 0.9983251318376456, 0.9975888994217287, 0.9979449908859692, 0.9977765158340947, 0.9975466892570181, 0.9985285515178264, 0.9979199727244332, 0.5991270708904496, 0.0700011010662381, 0.2377978580338382, 0.03705940644683193, 0.055074395691819676, 0.997995548948024, 0.9984247411147407, 0.028119370282447032, 0.3438509953016621, 0.6277955060885457, 0.9966190678242272, 0.9998022812454642], \"Term\": [\"abundance\", \"academia\", \"academic\", \"academic\", \"across\", \"across\", \"across\", \"across\", \"across\", \"across\", \"action\", \"action\", \"action\", \"activity\", \"activity\", \"activity\", \"activity\", \"activity\", \"activity\", \"activity\", \"activity\", \"activity\", \"additive\", \"adversary\", \"affect\", \"affect\", \"affect\", \"affect\", \"affect\", \"alaska\", \"algebra\", \"algebraic\", \"algorithm\", \"algorithm\", \"alliance\", \"analysis\", \"analysis\", \"analysis\", \"analysis\", \"analysis\", \"analysis\", \"analysis\", \"animal\", \"anisotropy\", \"antarctic\", \"application\", \"application\", \"application\", \"application\", \"approach\", \"approach\", \"approach\", \"approach\", \"approach\", \"approach\", \"approach\", \"approach\", \"approximation\", \"architecture\", \"architecture\", \"arctic\", \"artificial\", \"assumption\", \"atmosphere\", \"atmospheric\", \"atomic\", \"attack\", \"attack\", \"authentication\", \"automate\", \"automation\", \"autonomous\", \"bacteria\", \"bacterial\", \"battery\", \"behavior\", \"behavior\", \"behavior\", \"behavior\", \"biodiversity\", \"biogeochemical\", \"biological\", \"biological\", \"biology\", \"biology\", \"biology\", \"biomedical\", \"biotechnology\", \"broaden\", \"broaden\", \"broaden\", \"broaden\", \"broadly\", \"business\", \"business\", \"business\", \"campus\", \"cancer\", \"carbon\", \"carbon\", \"career\", \"career\", \"career\", \"career\", \"catalysis\", \"catalyst\", \"catalytic\", \"cellular\", \"cellular\", \"center\", \"center\", \"center\", \"center\", \"center\", \"certain\", \"certificate\", \"challenge\", \"challenge\", \"challenge\", \"challenge\", \"challenge\", \"challenge\", \"challenge\", \"challenge\", \"change\", \"change\", \"change\", \"change\", \"change\", \"characterization\", \"characterization\", \"characterization\", \"charge\", \"chemical\", \"chemical\", \"chemical\", \"chemistry\", \"chemistry\", \"chemistry\", \"choice\", \"circulation\", \"classical\", \"classical\", \"classroom\", \"classroom\", \"climate\", \"clinical\", \"coastal\", \"cognitive\", \"cohort\", \"collaboration\", \"collaboration\", \"collaboration\", \"collaboration\", \"collaboration\", \"collaboration\", \"collect\", \"collect\", \"collect\", \"collect\", \"collect\", \"college\", \"college\", \"combinatorial\", \"combinatoric\", \"commercial\", \"communication\", \"communication\", \"communication\", \"community\", \"community\", \"community\", \"community\", \"community\", \"company\", \"completion\", \"complex\", \"complex\", \"complex\", \"complex\", \"complex\", \"complex\", \"composite\", \"composition\", \"composition\", \"composition\", \"composition\", \"computational\", \"computational\", \"computational\", \"computational\", \"computational\", \"computer\", \"computer\", \"computer\", \"computing\", \"condition\", \"condition\", \"condition\", \"condition\", \"condition\", \"condition\", \"condition\", \"conference\", \"conjecture\", \"connection\", \"connection\", \"connection\", \"connection\", \"consume\", \"consumption\", \"contact\", \"context\", \"context\", \"context\", \"context\", \"continental\", \"continental\", \"control\", \"control\", \"control\", \"control\", \"control\", \"control\", \"convection\", \"cooperative\", \"course\", \"course\", \"course\", \"course\", \"create\", \"create\", \"create\", \"create\", \"create\", \"create\", \"create\", \"create\", \"credential\", \"critical\", \"critical\", \"critical\", \"critical\", \"critical\", \"critical\", \"critical\", \"critical\", \"cryptographic\", \"crystal\", \"cultural\", \"culturally\", \"curricular\", \"curriculum\", \"cybersecurity\", \"cycling\", \"decision\", \"decision\", \"decision\", \"defect\", \"deformation\", \"degree\", \"degree\", \"degree\", \"degree\", \"degree\", \"demographic\", \"department\", \"deployment\", \"design\", \"design\", \"design\", \"design\", \"design\", \"determine\", \"determine\", \"determine\", \"determine\", \"determine\", \"determine\", \"determine\", \"development\", \"development\", \"development\", \"development\", \"development\", \"development\", \"development\", \"development\", \"development\", \"device\", \"device\", \"device\", \"diagnostic\", \"different\", \"different\", \"different\", \"different\", \"different\", \"different\", \"different\", \"differential\", \"differential\", \"diffusion\", \"dimensional\", \"dimensional\", \"dioxide\", \"disaster\", \"discrete\", \"discussion\", \"disease\", \"disease\", \"dissolve\", \"distribute\", \"district\", \"diverse\", \"diverse\", \"diverse\", \"diverse\", \"diverse\", \"diverse\", \"diversity\", \"diversity\", \"driver\", \"dynamic\", \"dynamic\", \"dynamic\", \"dynamic\", \"dynamic\", \"dynamic\", \"dynamical\", \"earthquake\", \"ecological\", \"economic\", \"economic\", \"ecosystem\", \"ecosystem\", \"education\", \"education\", \"education\", \"educational\", \"educational\", \"educational\", \"educational\", \"educational\", \"educational\", \"educator\", \"educator\", \"effect\", \"effect\", \"effect\", \"effect\", \"effect\", \"electric\", \"electrochemical\", \"electron\", \"electronic\", \"electronic\", \"element\", \"element\", \"element\", \"element\", \"element\", \"employment\", \"enable\", \"enable\", \"enable\", \"enable\", \"enable\", \"enable\", \"encourage\", \"encourage\", \"energy\", \"energy\", \"engage\", \"engage\", \"engage\", \"engage\", \"engage\", \"engage\", \"engage\", \"engineering\", \"engineering\", \"engineering\", \"engineering\", \"engineering\", \"entity\", \"environmental\", \"environmental\", \"environmental\", \"environmental\", \"epscor\", \"equation\", \"equipment\", \"equitable\", \"erosion\", \"eruption\", \"estimation\", \"evolution\", \"evolution\", \"evolution\", \"evolution\", \"evolutionary\", \"examine\", \"examine\", \"examine\", \"example\", \"example\", \"example\", \"example\", \"example\", \"example\", \"example\", \"expectation\", \"experience\", \"experience\", \"experience\", \"experience\", \"experiences\", \"experiment\", \"experiment\", \"experiment\", \"experiment\", \"experimental\", \"experimental\", \"experimental\", \"experimental\", \"experimental\", \"experimental\", \"expert\", \"expression\", \"extension\", \"extinction\", \"fabrication\", \"factor\", \"factor\", \"factor\", \"factor\", \"factor\", \"faculty\", \"faculty\", \"family\", \"family\", \"family\", \"family\", \"feasibility\", \"fellow\", \"fellowship\", \"finding\", \"finding\", \"finding\", \"finding\", \"finding\", \"flooding\", \"forest\", \"formation\", \"formation\", \"formation\", \"formation\", \"fossil\", \"foster\", \"foster\", \"framework\", \"framework\", \"framework\", \"framework\", \"framework\", \"function\", \"function\", \"function\", \"function\", \"function\", \"functionality\", \"fundamental\", \"fundamental\", \"fundamental\", \"fundamental\", \"fundamental\", \"fundamental\", \"fundamental\", \"fundamental\", \"fundamental\", \"fundamental\", \"future\", \"future\", \"future\", \"future\", \"future\", \"future\", \"future\", \"genetic\", \"genome\", \"genomic\", \"geologic\", \"geometric\", \"geometry\", \"geometry\", \"geoscience\", \"glacial\", \"glacier\", \"global\", \"global\", \"global\", \"graduate\", \"graduate\", \"graduate\", \"graduate\", \"graduate\", \"graduate\", \"greenhouse\", \"guarantee\", \"habitat\", \"hardware\", \"hazard\", \"hazard\", \"health\", \"health\", \"healthcare\", \"hispanic\", \"historical\", \"household\", \"hurricane\", \"hydrogen\", \"hydrogen\", \"hydrologic\", \"hypothesis\", \"hypothesis\", \"hypothesis\", \"hypothesis\", \"hypothesis\", \"identify\", \"identify\", \"identify\", \"identify\", \"identify\", \"identify\", \"identify\", \"imaging\", \"imaging\", \"imaging\", \"immune\", \"important\", \"important\", \"important\", \"important\", \"important\", \"important\", \"important\", \"important\", \"improve\", \"improve\", \"improve\", \"improve\", \"improve\", \"improve\", \"inclusion\", \"inclusion\", \"inclusive\", \"increase\", \"increase\", \"increase\", \"increase\", \"increase\", \"increase\", \"increase\", \"increase\", \"increase\", \"indigenous\", \"individual\", \"individual\", \"individual\", \"industrial\", \"industrial\", \"industrial\", \"industrial\", \"industry\", \"industry\", \"industry\", \"industry\", \"inference\", \"inform\", \"inform\", \"inform\", \"inform\", \"informal\", \"information\", \"information\", \"information\", \"information\", \"information\", \"information\", \"information\", \"infrastructure\", \"infrastructure\", \"infrastructure\", \"innovation\", \"innovation\", \"innovation\", \"inorganic\", \"insect\", \"instance\", \"institution\", \"institution\", \"instruction\", \"instructional\", \"instructor\", \"instrument\", \"instrument\", \"integrate\", \"integrate\", \"integrate\", \"integrate\", \"integrate\", \"integrate\", \"intelligence\", \"intelligence\", \"interaction\", \"interaction\", \"interaction\", \"interaction\", \"interaction\", \"interaction\", \"interested\", \"interface\", \"interface\", \"internet\", \"internship\", \"intervention\", \"intervention\", \"investigator\", \"investigator\", \"investigator\", \"investigator\", \"investigator\", \"investigator\", \"investigator\", \"island\", \"isotope\", \"isotopic\", \"knowledge\", \"knowledge\", \"knowledge\", \"knowledge\", \"knowledge\", \"knowledge\", \"knowledge\", \"laboratory\", \"laboratory\", \"laboratory\", \"laboratory\", \"laboratory\", \"laboratory\", \"landscape\", \"leader\", \"leadership\", \"learner\", \"learning\", \"learning\", \"linear\", \"liquid\", \"longitudinal\", \"machine\", \"magnetic\", \"management\", \"management\", \"management\", \"management\", \"manifold\", \"mantle\", \"manufacture\", \"manufacturing\", \"manufacturing\", \"mapping\", \"margin\", \"marine\", \"marine\", \"material\", \"material\", \"materials\", \"mathematic\", \"mathematic\", \"mathematical\", \"matter\", \"matter\", \"measure\", \"measure\", \"measure\", \"measure\", \"measure\", \"measure\", \"measure\", \"measure\", \"measurement\", \"measurement\", \"measurement\", \"mechanical\", \"mechanism\", \"mechanism\", \"mechanism\", \"mechanism\", \"mechanism\", \"mechanism\", \"meeting\", \"membrane\", \"memory\", \"memory\", \"mentor\", \"mentoring\", \"mentorship\", \"methane\", \"method\", \"method\", \"method\", \"method\", \"method\", \"method\", \"microbe\", \"microbial\", \"microstructure\", \"mineral\", \"minority\", \"minority\", \"minority\", \"mixing\", \"mobile\", \"mobility\", \"modeling\", \"modeling\", \"modeling\", \"modeling\", \"modeling\", \"molecular\", \"molecular\", \"molecule\", \"molecule\", \"motivation\", \"muscle\", \"museum\", \"mutation\", \"nanoparticle\", \"national\", \"national\", \"national\", \"national\", \"national\", \"natural\", \"natural\", \"natural\", \"natural\", \"natural\", \"network\", \"network\", \"network\", \"network\", \"neural\", \"nitrogen\", \"nonlinear\", \"northern\", \"notion\", \"number\", \"number\", \"number\", \"number\", \"number\", \"number\", \"nutrient\", \"object\", \"objective\", \"objective\", \"objective\", \"objective\", \"objective\", \"objective\", \"objective\", \"objective\", \"objective\", \"objective\", \"observation\", \"observation\", \"observation\", \"observation\", \"observation\", \"oceanic\", \"online\", \"online\", \"operation\", \"operation\", \"operator\", \"operator\", \"opportunity\", \"opportunity\", \"opportunity\", \"opportunity\", \"opportunity\", \"opportunity\", \"opportunity\", \"opportunity\", \"opportunity\", \"opportunity\", \"optical\", \"optimization\", \"optimization\", \"organism\", \"outcome\", \"outcome\", \"outcome\", \"outcome\", \"outcome\", \"outreach\", \"outreach\", \"outreach\", \"outreach\", \"outreach\", \"outreach\", \"outreach\", \"outreach\", \"oxidation\", \"oxygen\", \"pacific\", \"pandemic\", \"partial\", \"participant\", \"participant\", \"participate\", \"participate\", \"participate\", \"participate\", \"participate\", \"participation\", \"participation\", \"participation\", \"particle\", \"particle\", \"partner\", \"partner\", \"partner\", \"pathogen\", \"patient\", \"people\", \"perception\", \"performance\", \"performance\", \"performance\", \"performance\", \"persistence\", \"persistence\", \"personal\", \"physics\", \"physics\", \"physics\", \"physics\", \"phytoplankton\", \"pipeline\", \"platform\", \"platform\", \"platform\", \"policy\", \"political\", \"polymer\", \"polynomial\", \"population\", \"population\", \"population\", \"potential\", \"potential\", \"potential\", \"potential\", \"potential\", \"potential\", \"potential\", \"potential\", \"practice\", \"practice\", \"practice\", \"precision\", \"predator\", \"predict\", \"predict\", \"predict\", \"predict\", \"predict\", \"predict\", \"predict\", \"preparation\", \"preparation\", \"presentation\", \"priority\", \"privacy\", \"probability\", \"problem\", \"problem\", \"problem\", \"process\", \"process\", \"process\", \"process\", \"process\", \"process\", \"process\", \"process\", \"process\", \"produce\", \"produce\", \"produce\", \"produce\", \"produce\", \"produce\", \"produce\", \"produce\", \"produce\", \"product\", \"product\", \"product\", \"production\", \"production\", \"production\", \"professional\", \"professional\", \"professor\", \"program\", \"program\", \"program\", \"program\", \"program\", \"property\", \"property\", \"property\", \"propose\", \"propose\", \"propose\", \"propose\", \"propose\", \"propose\", \"protein\", \"protein\", \"protocol\", \"prototype\", \"psychology\", \"public\", \"public\", \"public\", \"public\", \"public\", \"public\", \"public\", \"qualified\", \"quantum\", \"question\", \"question\", \"question\", \"question\", \"question\", \"question\", \"question\", \"random\", \"reaction\", \"reaction\", \"reality\", \"reconstruction\", \"record\", \"record\", \"recovery\", \"reduce\", \"reduce\", \"reduce\", \"reduce\", \"reduction\", \"region\", \"region\", \"region\", \"region\", \"region\", \"regularity\", \"regulate\", \"regulate\", \"relate\", \"relate\", \"relate\", \"relate\", \"relate\", \"relate\", \"relate\", \"relate\", \"relate\", \"reliability\", \"removal\", \"renewable\", \"representation\", \"representation\", \"reproductive\", \"require\", \"require\", \"require\", \"require\", \"require\", \"require\", \"require\", \"require\", \"rescue\", \"researcher\", \"researcher\", \"researcher\", \"researcher\", \"researcher\", \"researcher\", \"researcher\", \"resident\", \"resilience\", \"resilience\", \"resilient\", \"resolution\", \"resolution\", \"resolution\", \"resolution\", \"resolution\", \"resource\", \"resource\", \"resource\", \"resource\", \"resource\", \"response\", \"response\", \"response\", \"response\", \"response\", \"result\", \"result\", \"result\", \"result\", \"result\", \"result\", \"result\", \"result\", \"result\", \"result\", \"retention\", \"retention\", \"robotic\", \"safety\", \"sample\", \"sample\", \"sample\", \"sample\", \"sample\", \"satellite\", \"scheme\", \"scholar\", \"scholarship\", \"school\", \"school\", \"school\", \"school\", \"school\", \"science\", \"science\", \"science\", \"science\", \"science\", \"science\", \"science\", \"scientific\", \"scientific\", \"scientific\", \"scientific\", \"scientific\", \"scientific\", \"scientific\", \"scientific\", \"scientist\", \"scientist\", \"scientist\", \"scientist\", \"scientist\", \"scientist\", \"search\", \"seawater\", \"secondary\", \"secondary\", \"secure\", \"security\", \"security\", \"sediment\", \"seismic\", \"semiconductor\", \"seminar\", \"senior\", \"sensor\", \"sensor\", \"sequence\", \"sequence\", \"sequence\", \"sequencing\", \"session\", \"sharing\", \"shortage\", \"signal\", \"signal\", \"signal\", \"signal\", \"signal\", \"similarity\", \"simulate\", \"skilled\", \"social\", \"software\", \"source\", \"source\", \"source\", \"source\", \"source\", \"southern\", \"southern\", \"spatial\", \"spatial\", \"spatial\", \"spatial\", \"specie\", \"specimen\", \"spectroscopy\", \"stakeholder\", \"statistic\", \"statistical\", \"statistical\", \"stochastic\", \"strategy\", \"strategy\", \"strategy\", \"strategy\", \"stream\", \"stream\", \"stream\", \"stress\", \"stress\", \"stress\", \"structure\", \"structure\", \"structure\", \"structure\", \"structure\", \"subduction\", \"substrate\", \"summer\", \"summer\", \"summer\", \"summer\", \"surface\", \"surface\", \"surface\", \"survey\", \"survey\", \"symposium\", \"synthesis\", \"synthesis\", \"synthesis\", \"synthesis\", \"system\", \"system\", \"system\", \"system\", \"system\", \"system\", \"system\", \"talented\", \"target\", \"target\", \"target\", \"target\", \"target\", \"target\", \"target\", \"target\", \"teacher\", \"teaching\", \"technician\", \"technique\", \"technique\", \"technique\", \"technique\", \"technique\", \"technique\", \"technology\", \"technology\", \"technology\", \"technology\", \"tectonic\", \"temperature\", \"temperature\", \"temperature\", \"temporal\", \"temporal\", \"testing\", \"testing\", \"theoretical\", \"theoretical\", \"theoretical\", \"theory\", \"theory\", \"therapeutic\", \"therapy\", \"thermal\", \"thermal\", \"thinking\", \"thrust\", \"timescale\", \"timing\", \"topology\", \"topology\", \"traffic\", \"training\", \"training\", \"training\", \"training\", \"training\", \"training\", \"training\", \"training\", \"training\", \"transport\", \"transport\", \"transportation\", \"treatment\", \"tribal\", \"tropical\", \"turbulence\", \"undergraduate\", \"undergraduate\", \"undergraduate\", \"undergraduate\", \"undergraduate\", \"undergraduate\", \"undergraduates\", \"underrepresented\", \"underrepresented\", \"underrepresented\", \"underrepresented\", \"underrepresented\", \"understand\", \"understand\", \"understand\", \"understand\", \"understand\", \"understand\", \"understand\", \"understand\", \"understanding\", \"understanding\", \"understanding\", \"understanding\", \"understanding\", \"understanding\", \"understanding\", \"university\", \"university\", \"university\", \"university\", \"valley\", \"variability\", \"variability\", \"vegetation\", \"vehicle\", \"velocity\", \"virtual\", \"volatile\", \"volcanic\", \"volcano\", \"warming\", \"watershed\", \"weather\", \"western\", \"whether\", \"whether\", \"whether\", \"whether\", \"whether\", \"wildfire\", \"wireless\", \"workforce\", \"workforce\", \"workforce\", \"workplace\", \"workshop\"]}, \"R\": 30, \"lambda.step\": 0.01, \"plot.opts\": {\"xlab\": \"PC1\", \"ylab\": \"PC2\"}, \"topic.order\": [5, 4, 10, 7, 9, 3, 8, 1, 2, 6]};\n",
       "\n",
       "function LDAvis_load_lib(url, callback){\n",
       "  var s = document.createElement('script');\n",
       "  s.src = url;\n",
       "  s.async = true;\n",
       "  s.onreadystatechange = s.onload = callback;\n",
       "  s.onerror = function(){console.warn(\"failed to load library \" + url);};\n",
       "  document.getElementsByTagName(\"head\")[0].appendChild(s);\n",
       "}\n",
       "\n",
       "if(typeof(LDAvis) !== \"undefined\"){\n",
       "   // already loaded: just create the visualization\n",
       "   !function(LDAvis){\n",
       "       new LDAvis(\"#\" + \"ldavis_el2212026145189508169337569232\", ldavis_el2212026145189508169337569232_data);\n",
       "   }(LDAvis);\n",
       "}else if(typeof define === \"function\" && define.amd){\n",
       "   // require.js is available: use it to load d3/LDAvis\n",
       "   require.config({paths: {d3: \"https://d3js.org/d3.v5\"}});\n",
       "   require([\"d3\"], function(d3){\n",
       "      window.d3 = d3;\n",
       "      LDAvis_load_lib(\"https://cdn.jsdelivr.net/gh/bmabey/pyLDAvis@3.4.0/pyLDAvis/js/ldavis.v3.0.0.js\", function(){\n",
       "        new LDAvis(\"#\" + \"ldavis_el2212026145189508169337569232\", ldavis_el2212026145189508169337569232_data);\n",
       "      });\n",
       "    });\n",
       "}else{\n",
       "    // require.js not available: dynamically load d3 & LDAvis\n",
       "    LDAvis_load_lib(\"https://d3js.org/d3.v5.js\", function(){\n",
       "         LDAvis_load_lib(\"https://cdn.jsdelivr.net/gh/bmabey/pyLDAvis@3.4.0/pyLDAvis/js/ldavis.v3.0.0.js\", function(){\n",
       "                 new LDAvis(\"#\" + \"ldavis_el2212026145189508169337569232\", ldavis_el2212026145189508169337569232_data);\n",
       "            })\n",
       "         });\n",
       "}\n",
       "</script>"
      ],
      "text/plain": [
       "<IPython.core.display.HTML object>"
      ]
     },
     "execution_count": 97,
     "metadata": {},
     "output_type": "execute_result"
    }
   ],
   "source": [
    "import pyLDAvis.gensim_models\n",
    "import pyLDAvis\n",
    "\n",
    "pyLDAvis.enable_notebook()\n",
    "LDAvis_prepared = pyLDAvis.gensim_models.prepare(final_model, corpus, dictionary)\n",
    "pyLDAvis.display(LDAvis_prepared)"
   ]
  },
  {
   "cell_type": "markdown",
   "metadata": {},
   "source": [
    "### 4. Apply Criteria to Determinate Topics"
   ]
  },
  {
   "cell_type": "code",
   "execution_count": 98,
   "metadata": {},
   "outputs": [],
   "source": [
    "# Dictionary to apply for each document\n",
    "topic_ideal_name = {0: 'Materials Science and Quantum Energy',\n",
    "                    1: 'Public Health and Social Behavior',\n",
    "                    2: 'Computer Systems and Networks',\n",
    "                    3: 'Science and University Development Programs',\n",
    "                    4: 'Mathematical Theory and Methods',\n",
    "                    5: 'Technological Development and Industrial Innovation',\n",
    "                    6: 'Science and Technology Education',\n",
    "                    7: 'Molecular and Evolutionary Biology',\n",
    "                    8: 'Climate Change and Environmental Ecosystems',\n",
    "                    9: 'Geosciences and Earth Observation'}"
   ]
  },
  {
   "cell_type": "code",
   "execution_count": 101,
   "metadata": {},
   "outputs": [
    {
     "data": {
      "text/html": [
       "<div>\n",
       "<style scoped>\n",
       "    .dataframe tbody tr th:only-of-type {\n",
       "        vertical-align: middle;\n",
       "    }\n",
       "\n",
       "    .dataframe tbody tr th {\n",
       "        vertical-align: top;\n",
       "    }\n",
       "\n",
       "    .dataframe thead th {\n",
       "        text-align: right;\n",
       "    }\n",
       "</style>\n",
       "<table border=\"1\" class=\"dataframe\">\n",
       "  <thead>\n",
       "    <tr style=\"text-align: right;\">\n",
       "      <th></th>\n",
       "      <th>date</th>\n",
       "      <th>country</th>\n",
       "      <th>researcher</th>\n",
       "      <th>total_amount</th>\n",
       "      <th>text</th>\n",
       "      <th>clean text</th>\n",
       "      <th>dominant_topic</th>\n",
       "      <th>percentage_contribution</th>\n",
       "      <th>topic_name</th>\n",
       "    </tr>\n",
       "  </thead>\n",
       "  <tbody>\n",
       "    <tr>\n",
       "      <th>0</th>\n",
       "      <td>07/01/2020</td>\n",
       "      <td>United States</td>\n",
       "      <td>Janine M Ziermann-Canabarro</td>\n",
       "      <td>229338.00</td>\n",
       "      <td>Head and heart development are closely intertw...</td>\n",
       "      <td>[development, closely, intertwine, embryonic, ...</td>\n",
       "      <td>0</td>\n",
       "      <td>0.58</td>\n",
       "      <td>Materials Science and Quantum Energy</td>\n",
       "    </tr>\n",
       "    <tr>\n",
       "      <th>1</th>\n",
       "      <td>01/01/2020</td>\n",
       "      <td>United States</td>\n",
       "      <td>Jay B Brockman</td>\n",
       "      <td>27438.00</td>\n",
       "      <td>The National Academy of Engineering identified...</td>\n",
       "      <td>[national, academy, engineering, identify, com...</td>\n",
       "      <td>6</td>\n",
       "      <td>0.46</td>\n",
       "      <td>Science and Technology Education</td>\n",
       "    </tr>\n",
       "    <tr>\n",
       "      <th>2</th>\n",
       "      <td>02/01/2020</td>\n",
       "      <td>United States</td>\n",
       "      <td>Tao Mei</td>\n",
       "      <td>49999.00</td>\n",
       "      <td>This award provides three years of funding to ...</td>\n",
       "      <td>[provide, funding, defray, expense, participan...</td>\n",
       "      <td>6</td>\n",
       "      <td>0.44</td>\n",
       "      <td>Science and Technology Education</td>\n",
       "    </tr>\n",
       "    <tr>\n",
       "      <th>3</th>\n",
       "      <td>09/01/2020</td>\n",
       "      <td>United States</td>\n",
       "      <td>Michael R O'Rourke</td>\n",
       "      <td>372421.00</td>\n",
       "      <td>This collaborative research project, involving...</td>\n",
       "      <td>[collaborative, research, project, involve, mi...</td>\n",
       "      <td>3</td>\n",
       "      <td>0.43</td>\n",
       "      <td>Science and University Development Programs</td>\n",
       "    </tr>\n",
       "    <tr>\n",
       "      <th>4</th>\n",
       "      <td>05/01/2020</td>\n",
       "      <td>United States</td>\n",
       "      <td>Jacqueline A Smith</td>\n",
       "      <td>295500.00</td>\n",
       "      <td>Research Initiation Awards provide support for...</td>\n",
       "      <td>[research, initiation, awards, provide, suppor...</td>\n",
       "      <td>6</td>\n",
       "      <td>0.32</td>\n",
       "      <td>Science and Technology Education</td>\n",
       "    </tr>\n",
       "  </tbody>\n",
       "</table>\n",
       "</div>"
      ],
      "text/plain": [
       "         date        country                   researcher  total_amount  \\\n",
       "0  07/01/2020  United States  Janine M Ziermann-Canabarro     229338.00   \n",
       "1  01/01/2020  United States               Jay B Brockman      27438.00   \n",
       "2  02/01/2020  United States                      Tao Mei      49999.00   \n",
       "3  09/01/2020  United States           Michael R O'Rourke     372421.00   \n",
       "4  05/01/2020  United States           Jacqueline A Smith     295500.00   \n",
       "\n",
       "                                                text  \\\n",
       "0  Head and heart development are closely intertw...   \n",
       "1  The National Academy of Engineering identified...   \n",
       "2  This award provides three years of funding to ...   \n",
       "3  This collaborative research project, involving...   \n",
       "4  Research Initiation Awards provide support for...   \n",
       "\n",
       "                                          clean text  dominant_topic  \\\n",
       "0  [development, closely, intertwine, embryonic, ...               0   \n",
       "1  [national, academy, engineering, identify, com...               6   \n",
       "2  [provide, funding, defray, expense, participan...               6   \n",
       "3  [collaborative, research, project, involve, mi...               3   \n",
       "4  [research, initiation, awards, provide, suppor...               6   \n",
       "\n",
       "   percentage_contribution                                   topic_name  \n",
       "0                     0.58         Materials Science and Quantum Energy  \n",
       "1                     0.46             Science and Technology Education  \n",
       "2                     0.44             Science and Technology Education  \n",
       "3                     0.43  Science and University Development Programs  \n",
       "4                     0.32             Science and Technology Education  "
      ]
     },
     "execution_count": 101,
     "metadata": {},
     "output_type": "execute_result"
    }
   ],
   "source": [
    "final_df['topic_name'] = final_df['dominant_topic'].map(topic_ideal_name)\n",
    "final_df.head()"
   ]
  },
  {
   "cell_type": "markdown",
   "metadata": {},
   "source": [
    "- It is necessary to know which is the topic with the most research projects."
   ]
  },
  {
   "cell_type": "code",
   "execution_count": 103,
   "metadata": {},
   "outputs": [
    {
     "data": {
      "text/plain": [
       "topic_name\n",
       "Mathematical Theory and Methods                        1797\n",
       "Geosciences and Earth Observation                      1756\n",
       "Science and University Development Programs            1488\n",
       "Materials Science and Quantum Energy                   1408\n",
       "Science and Technology Education                       1308\n",
       "Computer Systems and Networks                          1247\n",
       "Climate Change and Environmental Ecosystems            1159\n",
       "Molecular and Evolutionary Biology                     1146\n",
       "Technological Development and Industrial Innovation     965\n",
       "Public Health and Social Behavior                       884\n",
       "Name: count, dtype: int64"
      ]
     },
     "execution_count": 103,
     "metadata": {},
     "output_type": "execute_result"
    }
   ],
   "source": [
    "final_df['topic_name'].value_counts()"
   ]
  },
  {
   "cell_type": "markdown",
   "metadata": {},
   "source": [
    "- It is necessary to know which project topic received the best funding award."
   ]
  },
  {
   "cell_type": "code",
   "execution_count": 109,
   "metadata": {},
   "outputs": [
    {
     "data": {
      "text/html": [
       "<div>\n",
       "<style scoped>\n",
       "    .dataframe tbody tr th:only-of-type {\n",
       "        vertical-align: middle;\n",
       "    }\n",
       "\n",
       "    .dataframe tbody tr th {\n",
       "        vertical-align: top;\n",
       "    }\n",
       "\n",
       "    .dataframe thead th {\n",
       "        text-align: right;\n",
       "    }\n",
       "</style>\n",
       "<table border=\"1\" class=\"dataframe\">\n",
       "  <thead>\n",
       "    <tr style=\"text-align: right;\">\n",
       "      <th></th>\n",
       "      <th>researcher</th>\n",
       "      <th>topic_name</th>\n",
       "      <th>total_amount</th>\n",
       "    </tr>\n",
       "  </thead>\n",
       "  <tbody>\n",
       "    <tr>\n",
       "      <th>3843</th>\n",
       "      <td>Francis L Halzen</td>\n",
       "      <td>Technological Development and Industrial Innov...</td>\n",
       "      <td>38380300.00</td>\n",
       "    </tr>\n",
       "    <tr>\n",
       "      <th>3242</th>\n",
       "      <td>Edward J Brook</td>\n",
       "      <td>Public Health and Social Behavior</td>\n",
       "      <td>25000000.00</td>\n",
       "    </tr>\n",
       "    <tr>\n",
       "      <th>11185</th>\n",
       "      <td>Tian Zheng</td>\n",
       "      <td>Public Health and Social Behavior</td>\n",
       "      <td>25000000.00</td>\n",
       "    </tr>\n",
       "    <tr>\n",
       "      <th>7405</th>\n",
       "      <td>Mark A Kasevich</td>\n",
       "      <td>Geosciences and Earth Observation</td>\n",
       "      <td>25000000.00</td>\n",
       "    </tr>\n",
       "    <tr>\n",
       "      <th>3224</th>\n",
       "      <td>Edo Waks</td>\n",
       "      <td>Mathematical Theory and Methods</td>\n",
       "      <td>25000000.00</td>\n",
       "    </tr>\n",
       "    <tr>\n",
       "      <th>...</th>\n",
       "      <td>...</td>\n",
       "      <td>...</td>\n",
       "      <td>...</td>\n",
       "    </tr>\n",
       "    <tr>\n",
       "      <th>11419</th>\n",
       "      <td>Vadim Roytershteyn</td>\n",
       "      <td>Science and Technology Education</td>\n",
       "      <td>2120.00</td>\n",
       "    </tr>\n",
       "    <tr>\n",
       "      <th>11030</th>\n",
       "      <td>Teresa A Murray</td>\n",
       "      <td>Science and Technology Education</td>\n",
       "      <td>2000.00</td>\n",
       "    </tr>\n",
       "    <tr>\n",
       "      <th>3370</th>\n",
       "      <td>Elizabeth L Crockett</td>\n",
       "      <td>Materials Science and Quantum Energy</td>\n",
       "      <td>1657.00</td>\n",
       "    </tr>\n",
       "    <tr>\n",
       "      <th>7966</th>\n",
       "      <td>Michael J Lee</td>\n",
       "      <td>Science and Technology Education</td>\n",
       "      <td>1355.00</td>\n",
       "    </tr>\n",
       "    <tr>\n",
       "      <th>8680</th>\n",
       "      <td>Omowunmi \" Sadik</td>\n",
       "      <td>Materials Science and Quantum Energy</td>\n",
       "      <td>1.00</td>\n",
       "    </tr>\n",
       "  </tbody>\n",
       "</table>\n",
       "<p>12423 rows × 3 columns</p>\n",
       "</div>"
      ],
      "text/plain": [
       "                 researcher  \\\n",
       "3843       Francis L Halzen   \n",
       "3242         Edward J Brook   \n",
       "11185            Tian Zheng   \n",
       "7405        Mark A Kasevich   \n",
       "3224               Edo Waks   \n",
       "...                     ...   \n",
       "11419    Vadim Roytershteyn   \n",
       "11030       Teresa A Murray   \n",
       "3370   Elizabeth L Crockett   \n",
       "7966          Michael J Lee   \n",
       "8680       Omowunmi \" Sadik   \n",
       "\n",
       "                                              topic_name  total_amount  \n",
       "3843   Technological Development and Industrial Innov...   38380300.00  \n",
       "3242                   Public Health and Social Behavior   25000000.00  \n",
       "11185                  Public Health and Social Behavior   25000000.00  \n",
       "7405                   Geosciences and Earth Observation   25000000.00  \n",
       "3224                     Mathematical Theory and Methods   25000000.00  \n",
       "...                                                  ...           ...  \n",
       "11419                   Science and Technology Education       2120.00  \n",
       "11030                   Science and Technology Education       2000.00  \n",
       "3370                Materials Science and Quantum Energy       1657.00  \n",
       "7966                    Science and Technology Education       1355.00  \n",
       "8680                Materials Science and Quantum Energy          1.00  \n",
       "\n",
       "[12423 rows x 3 columns]"
      ]
     },
     "execution_count": 109,
     "metadata": {},
     "output_type": "execute_result"
    }
   ],
   "source": [
    "final_df.groupby(['researcher', 'topic_name']).agg({'total_amount':'sum'}).reset_index().sort_values(by='total_amount', ascending=False)"
   ]
  },
  {
   "cell_type": "markdown",
   "metadata": {},
   "source": [
    "## New Approach"
   ]
  },
  {
   "cell_type": "code",
   "execution_count": 118,
   "metadata": {},
   "outputs": [],
   "source": [
    "from transformers import AutoTokenizer, AutoModel\n",
    "import torch\n",
    "from sklearn.cluster import KMeans"
   ]
  },
  {
   "cell_type": "code",
   "execution_count": 144,
   "metadata": {},
   "outputs": [],
   "source": [
    "processed_df['joined_text'] = processed_df['clean text'].apply(lambda x: \" \".join(x))"
   ]
  },
  {
   "cell_type": "code",
   "execution_count": 145,
   "metadata": {},
   "outputs": [],
   "source": [
    "def load_pretrained_model():\n",
    "    tokenizer = AutoTokenizer.from_pretrained(\"sentence-transformers/distilbert-base-nli-stsb-mean-tokens\")\n",
    "    model = AutoModel.from_pretrained(\"sentence-transformers/distilbert-base-nli-stsb-mean-tokens\")\n",
    "    return tokenizer, model"
   ]
  },
  {
   "cell_type": "code",
   "execution_count": 146,
   "metadata": {},
   "outputs": [],
   "source": [
    "def get_embeddings(texts, tokenizer, model):\n",
    "    \"\"\"\n",
    "    This function helps to get embeddings.\n",
    "    \"\"\"\n",
    "    encoded_input = tokenizer(texts, padding=True, truncation=True, return_tensors='pt')\n",
    "    with torch.no_grad():\n",
    "        model_output = model(**encoded_input)\n",
    "    embeddings = model_output.last_hidden_state.mean(dim=1)\n",
    "    return embeddings"
   ]
  },
  {
   "cell_type": "code",
   "execution_count": 147,
   "metadata": {},
   "outputs": [],
   "source": [
    "tokenizer, model = load_pretrained_model()\n",
    "embeddings = get_embeddings(processed_df['joined_text'].to_list(), tokenizer, model)"
   ]
  }
 ],
 "metadata": {
  "kernelspec": {
   "display_name": "interview",
   "language": "python",
   "name": "python3"
  },
  "language_info": {
   "codemirror_mode": {
    "name": "ipython",
    "version": 3
   },
   "file_extension": ".py",
   "mimetype": "text/x-python",
   "name": "python",
   "nbconvert_exporter": "python",
   "pygments_lexer": "ipython3",
   "version": "3.9.19"
  }
 },
 "nbformat": 4,
 "nbformat_minor": 2
}
